{
 "metadata": {
  "language_info": {
   "codemirror_mode": {
    "name": "ipython",
    "version": 3
   },
   "file_extension": ".py",
   "mimetype": "text/x-python",
   "name": "python",
   "nbconvert_exporter": "python",
   "pygments_lexer": "ipython3",
   "version": "3.8.0-final"
  },
  "orig_nbformat": 2,
  "kernelspec": {
   "name": "python3",
   "display_name": "Python 3.8.0 64-bit",
   "metadata": {
    "interpreter": {
     "hash": "8a298693b61c3ef6bd5797ff4e9ec6e70addcdadee3acf16272a421292c70e00"
    }
   }
  }
 },
 "nbformat": 4,
 "nbformat_minor": 2,
 "cells": [
  {
   "cell_type": "code",
   "execution_count": 1,
   "metadata": {},
   "outputs": [],
   "source": [
    "import sys\n",
    "import pandas as pd\n",
    "import cv2 as cv\n",
    "import numpy as np\n",
    "from tqdm.notebook import tqdm\n",
    "from skimage.feature import local_binary_pattern\n",
    "\n",
    "sys.path.append(os.path.join(os.path.dirname(os.getcwd()),\"modules\"))"
   ]
  },
  {
   "cell_type": "code",
   "execution_count": 2,
   "metadata": {},
   "outputs": [],
   "source": [
    "import NbrRegionSegment as seg\n",
    "from MarinePredator.MPA import MPA"
   ]
  },
  {
   "cell_type": "code",
   "execution_count": 3,
   "metadata": {},
   "outputs": [],
   "source": [
    "#fitness function to be used in the marine predator algo\n",
    "def fitness_func(wr, wg, wc, thres):\n",
    "    #read the csv file\n",
    "    data = pd.read_csv(\"../CSV/reduced.csv\")\n",
    "\n",
    "    #fitness for each image against each predator\n",
    "    fit = list()\n",
    "\n",
    "    #fetch the image file\n",
    "    for entry in tqdm(data.values, desc = \"Fitness Calculation\"):\n",
    "        #read the image\n",
    "        img = cv.imread(\"../Dataset/\" + entry[2] + \".jpg\")\n",
    "\n",
    "        gray_img = cv.cvtColor(img, cv.COLOR_BGR2GRAY)\n",
    "\n",
    "        #LBP part\n",
    "        radius = 1\n",
    "        points = 8*radius \n",
    "\n",
    "        lbp = local_binary_pattern(gray_img, points, radius, \"uniform\").astype(\"uint8\")\n",
    "\n",
    "        #segment image\n",
    "        r = seg.RegionExtract(img, lbp, thres, wr, wg, wc)\n",
    "        r1, r2 = r\n",
    "\n",
    "        #find the fitness level\n",
    "        intra, inter = seg.GetAllSegVariance(gray_img, r1, r2.shape[0])\n",
    "\n",
    "        #push the fitness into the list\n",
    "        fit.append(intra + inter) #-> fitness is the sum of the inter and intra variance and is a decreasing function\n",
    "    \n",
    "    #return the fitness as the avg of all fitness\n",
    "    return np.mean(fit)"
   ]
  },
  {
   "cell_type": "code",
   "execution_count": 4,
   "metadata": {},
   "outputs": [],
   "source": [
    "#algo params for the MPA\n",
    "max_iter = 30\n",
    "num_agents = 15\n",
    "\n",
    "#wr, wg, wc, thres\n",
    "lb = [0, 0, 0, 10]\n",
    "ub = [0.99999999, 0.999999999, 0.99999999, 50]\n",
    "num_var = 4\n",
    "\n",
    "#create a class object for the metaheuristic algorithm\n",
    "mpa = MPA(num_agents, max_iter, lb, ub, num_var, fitness_func)"
   ]
  },
  {
   "cell_type": "code",
   "execution_count": 5,
   "metadata": {},
   "outputs": [],
   "source": [
    "mpa.initialize()"
   ]
  },
  {
   "cell_type": "code",
   "execution_count": 6,
   "metadata": {},
   "outputs": [
    {
     "output_type": "execute_result",
     "data": {
      "text/plain": [
       "(15, 4)"
      ]
     },
     "metadata": {},
     "execution_count": 6
    }
   ],
   "source": [
    "mpa.Prey.shape"
   ]
  },
  {
   "cell_type": "code",
   "execution_count": 7,
   "metadata": {},
   "outputs": [
    {
     "output_type": "execute_result",
     "data": {
      "text/plain": [
       "array([[9.67654152e-01, 4.42862841e-02, 7.04064641e-01, 4.32086928e+01],\n",
       "       [2.13246733e-01, 4.86492646e-01, 3.39029413e-01, 1.39603074e+01],\n",
       "       [2.95205776e-01, 8.65264882e-01, 4.95779627e-02, 3.22798882e+01],\n",
       "       [4.58699036e-01, 5.30174061e-01, 2.93627445e-02, 2.95495440e+01],\n",
       "       [8.42306751e-01, 2.79666522e-01, 8.95741160e-01, 4.75420749e+01],\n",
       "       [9.97161562e-01, 8.91498228e-01, 8.51091929e-01, 2.51073566e+01],\n",
       "       [7.45863598e-03, 1.21692925e-01, 4.98337367e-01, 3.22243506e+01],\n",
       "       [4.20536015e-02, 3.64951336e-01, 1.53836299e-01, 4.78374335e+01],\n",
       "       [8.43932823e-01, 6.18912329e-01, 7.06667228e-01, 2.36241439e+01],\n",
       "       [8.59268734e-01, 6.48407930e-01, 7.53256705e-01, 3.56698013e+01],\n",
       "       [8.20441240e-01, 7.80327918e-01, 9.59034501e-03, 1.71499174e+01],\n",
       "       [7.95286455e-01, 6.26257345e-01, 5.88656291e-01, 2.79059309e+01],\n",
       "       [3.56975483e-01, 2.67509367e-01, 8.98388256e-01, 1.67240682e+01],\n",
       "       [4.31323373e-01, 9.00029539e-01, 7.06292505e-01, 1.72097618e+01],\n",
       "       [1.59956914e-01, 2.32163123e-02, 9.45052693e-01, 1.34423110e+01]])"
      ]
     },
     "metadata": {},
     "execution_count": 7
    }
   ],
   "source": [
    "mpa.Prey"
   ]
  },
  {
   "cell_type": "code",
   "execution_count": 8,
   "metadata": {},
   "outputs": [
    {
     "output_type": "display_data",
     "data": {
      "text/plain": "MPA iterations:   0%|          | 0/30 [00:00<?, ?it/s]",
      "application/vnd.jupyter.widget-view+json": {
       "version_major": 2,
       "version_minor": 0,
       "model_id": "d298727efcbe49859b762c7444cefcb4"
      }
     },
     "metadata": {}
    },
    {
     "output_type": "display_data",
     "data": {
      "text/plain": "Fitness Calculation:   0%|          | 0/11 [00:00<?, ?it/s]",
      "application/vnd.jupyter.widget-view+json": {
       "version_major": 2,
       "version_minor": 0,
       "model_id": "b1eaaf2dd72d47d0a39585703a5483f3"
      }
     },
     "metadata": {}
    }
   ],
   "source": [
    "for i in tqdm(mpa.iter_gen(), total = mpa.maxItr):\n",
    "    pass"
   ]
  },
  {
   "cell_type": "code",
   "execution_count": null,
   "metadata": {},
   "outputs": [],
   "source": []
  }
 ]
}