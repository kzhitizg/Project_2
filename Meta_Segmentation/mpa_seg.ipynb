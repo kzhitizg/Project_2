{
 "metadata": {
  "language_info": {
   "codemirror_mode": {
    "name": "ipython",
    "version": 3
   },
   "file_extension": ".py",
   "mimetype": "text/x-python",
   "name": "python",
   "nbconvert_exporter": "python",
   "pygments_lexer": "ipython3",
   "version": "3.8.0-final"
  },
  "orig_nbformat": 2,
  "kernelspec": {
   "name": "python3",
   "display_name": "Python 3",
   "language": "python"
  }
 },
 "nbformat": 4,
 "nbformat_minor": 2,
 "cells": [
  {
   "cell_type": "code",
   "execution_count": 1,
   "metadata": {},
   "outputs": [],
   "source": [
    "import sys\n",
    "import pandas as pd\n",
    "import cv2 as cv\n",
    "import numpy as np\n",
    "from tqdm.notebook import tqdm\n",
    "from skimage.feature import local_binary_pattern\n",
    "import os\n",
    "\n",
    "sys.path.append(os.path.join(os.path.dirname(os.getcwd()),\"modules\"))"
   ]
  },
  {
   "cell_type": "code",
   "execution_count": 2,
   "metadata": {},
   "outputs": [],
   "source": [
    "import NbrRegionSegment as seg\n",
    "from MarinePredator.MPA import MPA"
   ]
  },
  {
   "cell_type": "code",
   "execution_count": 3,
   "metadata": {},
   "outputs": [],
   "source": [
    "def get_fit_oneimg(name, wr, wg, wc, thres):\n",
    "    #read the image\n",
    "    img = cv.imread(\"../Dataset/\" + name + \".jpg\")\n",
    "\n",
    "    gray_img = cv.cvtColor(img, cv.COLOR_BGR2GRAY)\n",
    "\n",
    "    #LBP part\n",
    "    radius = 1\n",
    "    points = 8*radius \n",
    "\n",
    "    lbp = local_binary_pattern(gray_img, points, radius, \"uniform\").astype(\"uint8\")\n",
    "\n",
    "    #segment image\n",
    "    r = seg.RegionExtract(img, lbp, thres, wr, wg, wc)\n",
    "    r1, r2 = r\n",
    "\n",
    "    #find the fitness level\n",
    "    intra, inter = seg.GetAllSegVariance(gray_img, r1, r2.shape[0])\n",
    "\n",
    "    return intra+inter"
   ]
  },
  {
   "cell_type": "code",
   "execution_count": 4,
   "metadata": {},
   "outputs": [],
   "source": [
    "#fitness function to be used in the marine predator algo\n",
    "def fitness_func(wr, wg, wc, thres):\n",
    "    #read the csv file\n",
    "    data = pd.read_csv(\"../CSV/reduced.csv\")\n",
    "\n",
    "    #fitness for each image against each predator\n",
    "    fit = list()\n",
    "\n",
    "    #fetch the image file\n",
    "    for entry in tqdm(data.values):\n",
    "        #push the fitness into the list\n",
    "        fit.append(get_fit_oneimg(entry[2], wr, wg, wc, thres)) #-> fitness is the sum of the inter and intra variance and is a decreasing function\n",
    "    \n",
    "    #return the fitness as the avg of all fitness\n",
    "    return np.mean(fit)"
   ]
  },
  {
   "cell_type": "code",
   "execution_count": 5,
   "metadata": {},
   "outputs": [
    {
     "output_type": "display_data",
     "data": {
      "text/plain": "  0%|          | 0/11 [00:00<?, ?it/s]",
      "application/vnd.jupyter.widget-view+json": {
       "version_major": 2,
       "version_minor": 0,
       "model_id": "5bd7113b1bb548d6b556a7aac71352ed"
      }
     },
     "metadata": {}
    }
   ],
   "source": [
    "fitness_func(.4, .4, .8, 25)"
   ]
  },
  {
   "cell_type": "code",
   "execution_count": 25,
   "metadata": {},
   "outputs": [],
   "source": [
    "#algo params for the MPA\n",
    "max_iter = 30\n",
    "num_agents = 15\n",
    "\n",
    "#wr, wg, wc, thres\n",
    "lb = [0, 0, 0, 10]\n",
    "ub = [0.99999999, 0.999999999, 0.99999999, 50]\n",
    "num_var = 4\n",
    "\n",
    "#create a class object for the metaheuristic algorithm\n",
    "mpa = MPA(num_agents, max_iter, lb, ub, num_var, fitness_func)"
   ]
  },
  {
   "cell_type": "code",
   "execution_count": 26,
   "metadata": {},
   "outputs": [],
   "source": [
    "mpa.initialize()"
   ]
  },
  {
   "cell_type": "code",
   "execution_count": 27,
   "metadata": {},
   "outputs": [
    {
     "output_type": "execute_result",
     "data": {
      "text/plain": [
       "(15, 4)"
      ]
     },
     "metadata": {},
     "execution_count": 27
    }
   ],
   "source": [
    "mpa.Prey.shape"
   ]
  },
  {
   "cell_type": "code",
   "execution_count": 28,
   "metadata": {},
   "outputs": [
    {
     "output_type": "execute_result",
     "data": {
      "text/plain": [
       "array([[4.09944929e-01, 7.24153550e-01, 7.87419025e-02, 2.16452419e+01],\n",
       "       [9.01224219e-01, 7.03071358e-01, 5.87718352e-01, 4.10079369e+01],\n",
       "       [3.81660722e-01, 8.65584517e-01, 2.63323210e-01, 3.72495122e+01],\n",
       "       [4.01581909e-01, 6.42775697e-01, 3.78658190e-01, 1.29760582e+01],\n",
       "       [2.79910128e-02, 2.63431140e-01, 4.98000218e-01, 4.04047372e+01],\n",
       "       [3.41538991e-01, 9.64314499e-01, 4.80354571e-01, 3.11421683e+01],\n",
       "       [5.41290179e-01, 1.57548981e-01, 2.54270787e-01, 4.10453151e+01],\n",
       "       [5.13445535e-01, 5.52147222e-01, 6.56910238e-01, 4.04915527e+01],\n",
       "       [4.14895140e-01, 6.99042552e-01, 2.68776431e-01, 1.62842159e+01],\n",
       "       [8.42075019e-01, 2.50189492e-02, 1.94806385e-01, 4.55934840e+01],\n",
       "       [5.17266182e-02, 2.68002723e-01, 7.96557635e-01, 1.38576732e+01],\n",
       "       [4.41488679e-01, 8.46848455e-01, 9.64286802e-01, 3.93221697e+01],\n",
       "       [3.88765659e-01, 1.79258616e-01, 8.09817048e-01, 3.30219186e+01],\n",
       "       [3.93545093e-02, 2.52661154e-01, 4.60619870e-01, 2.55577955e+01],\n",
       "       [9.13812781e-01, 4.48559108e-01, 9.00369088e-01, 4.79411437e+01]])"
      ]
     },
     "metadata": {},
     "execution_count": 28
    }
   ],
   "source": [
    "mpa.Prey"
   ]
  },
  {
   "cell_type": "code",
   "execution_count": 29,
   "metadata": {},
   "outputs": [
    {
     "output_type": "display_data",
     "data": {
      "text/plain": "  0%|          | 0/30 [00:00<?, ?it/s]",
      "application/vnd.jupyter.widget-view+json": {
       "version_major": 2,
       "version_minor": 0,
       "model_id": "7cf549c822cd40fe844a7f664f05504e"
      }
     },
     "metadata": {}
    },
    {
     "output_type": "display_data",
     "data": {
      "text/plain": "Fitness Calculation:   0%|          | 0/11 [00:00<?, ?it/s]",
      "application/vnd.jupyter.widget-view+json": {
       "version_major": 2,
       "version_minor": 0,
       "model_id": "6b3d41059ef146528f45d2bd708d631e"
      }
     },
     "metadata": {}
    }
   ],
   "source": [
    "for i in tqdm(mpa.iter_gen(), total = mpa.maxItr):\n",
    "    pass"
   ]
  },
  {
   "cell_type": "code",
   "execution_count": null,
   "metadata": {},
   "outputs": [],
   "source": []
  }
 ]
}