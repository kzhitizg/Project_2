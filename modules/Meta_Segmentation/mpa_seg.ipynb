{
 "metadata": {
  "language_info": {
   "codemirror_mode": {
    "name": "ipython",
    "version": 3
   },
   "file_extension": ".py",
   "mimetype": "text/x-python",
   "name": "python",
   "nbconvert_exporter": "python",
   "pygments_lexer": "ipython3",
   "version": "3.8.1-final"
  },
  "orig_nbformat": 2,
  "kernelspec": {
   "name": "python38164bit39eeb040138a4400b527553fabbf3906",
   "display_name": "Python 3.8.1 64-bit",
   "language": "python"
  }
 },
 "nbformat": 4,
 "nbformat_minor": 2,
 "cells": [
  {
   "cell_type": "code",
   "execution_count": 1,
   "metadata": {},
   "outputs": [],
   "source": [
    "import sys\n",
    "import pandas as pd\n",
    "import cv2 as cv\n",
    "import numpy as np\n",
    "from tqdm.notebook import tqdm\n",
    "\n",
    "sys.path.insert(1, \"E:\\8thSem\\BTP_Research\\Project_2\\modules\")"
   ]
  },
  {
   "cell_type": "code",
   "execution_count": 2,
   "metadata": {},
   "outputs": [],
   "source": [
    "import NbrRegionSegment as seg\n",
    "from MarinePredator import MPA as MPA"
   ]
  },
  {
   "cell_type": "code",
   "execution_count": 3,
   "metadata": {},
   "outputs": [],
   "source": [
    "#fitness function to be used in the marine predator algo\n",
    "def fitness_func(wr, wg, wc, thres):\n",
    "    #read the csv file\n",
    "    data = pd.read_csv(\"../../CSV/reduced.csv\")\n",
    "\n",
    "    #fitness for each image against each predator\n",
    "    fit = list()\n",
    "\n",
    "    #fetch the image file\n",
    "    for entry in tqdm(data.values):\n",
    "        #read the image\n",
    "        img = cv.imread(\"../../Dataset/\" + entry[2] + \".jpg\")\n",
    "\n",
    "        gray_img = cv.cvtColor(img, cv.COLOR_BGR2GRAY)\n",
    "\n",
    "        #LBP part\n",
    "        radius = 1\n",
    "        points = 8*radius \n",
    "\n",
    "        lbp = local_binary_pattern(gray_img, points, radius, \"uniform\").astype(\"uint8\")\n",
    "\n",
    "        #segment image\n",
    "        r = seg.SegmentImage(img, lbp, thres, wr, wg, wc, True)\n",
    "        r1, r2 = r\n",
    "\n",
    "        #find the fitness level\n",
    "        intra, inter = seg.GetAllSegVariance(gray_img, r1, r2.shape[0], True)\n",
    "\n",
    "        #push the fitness into the list\n",
    "        fit.append(intra + inter) #-> fitness is the sum of the inter and intra variance and is a decreasing function\n",
    "    \n",
    "    #return the fitness as the avg of all fitness\n",
    "    return np.mean(fit)"
   ]
  },
  {
   "cell_type": "code",
   "execution_count": 5,
   "metadata": {},
   "outputs": [],
   "source": [
    "#algo params for the MPA\n",
    "max_iter = 30\n",
    "num_agents = 15\n",
    "\n",
    "#wr, wg, wc, thres\n",
    "lb = [0, 0, 0, 10]\n",
    "ub = [1, 1, 1, 50]\n",
    "num_var = 4\n",
    "\n",
    "#create a class object for the metaheuristic algorithm\n",
    "mpa = MPA.MPA(num_agents, max_iter, lb, ub, num_var, fitness_func)"
   ]
  },
  {
   "cell_type": "code",
   "execution_count": 6,
   "metadata": {},
   "outputs": [],
   "source": [
    "#init the mpa algo\n",
    "mpa.initialize()"
   ]
  },
  {
   "cell_type": "code",
   "execution_count": 7,
   "metadata": {},
   "outputs": [
    {
     "output_type": "execute_result",
     "data": {
      "text/plain": [
       "(15, 4)"
      ]
     },
     "metadata": {},
     "execution_count": 7
    }
   ],
   "source": [
    "mpa.Prey.shape"
   ]
  },
  {
   "cell_type": "code",
   "execution_count": null,
   "metadata": {},
   "outputs": [],
   "source": [
    "mpa.run()"
   ]
  }
 ]
}