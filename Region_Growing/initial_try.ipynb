{
 "metadata": {
  "language_info": {
   "codemirror_mode": {
    "name": "ipython",
    "version": 3
   },
   "file_extension": ".py",
   "mimetype": "text/x-python",
   "name": "python",
   "nbconvert_exporter": "python",
   "pygments_lexer": "ipython3",
   "version": "3.8.1-final"
  },
  "orig_nbformat": 2,
  "kernelspec": {
   "name": "python38164bit39eeb040138a4400b527553fabbf3906",
   "display_name": "Python 3.8.1 64-bit",
   "language": "python"
  }
 },
 "nbformat": 4,
 "nbformat_minor": 2,
 "cells": [
  {
   "source": [
    "### Structure of Regions:\n",
    "The region is a dictionary object with the following values:\n",
    "- pixels -> list which stores the coordinates of various pixels for each region\n",
    "- pixel values -> list which stores the pixel values for each region\n",
    "- mean color -> a representative of the entire region, used to calculate the similarity of a pixel from the region. \n",
    "\n",
    "### Structure of Elements in Stack:\n",
    "The tuples in the stack will have the pixel coordinates and the pixel value. "
   ],
   "cell_type": "markdown",
   "metadata": {}
  },
  {
   "cell_type": "code",
   "execution_count": 2,
   "metadata": {},
   "outputs": [],
   "source": [
    "import numpy as np\n",
    "import cv2"
   ]
  },
  {
   "source": [
    "# load an image\n",
    "img = cv2.imread(\"input.jpg\")\n",
    "\n",
    "cv2.imshow(\"Display\", img)"
   ],
   "cell_type": "code",
   "metadata": {},
   "execution_count": 3,
   "outputs": []
  },
  {
   "cell_type": "code",
   "execution_count": null,
   "metadata": {},
   "outputs": [],
   "source": []
  }
 ]
}