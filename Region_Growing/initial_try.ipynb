{
 "metadata": {
  "language_info": {
   "codemirror_mode": {
    "name": "ipython",
    "version": 3
   },
   "file_extension": ".py",
   "mimetype": "text/x-python",
   "name": "python",
   "nbconvert_exporter": "python",
   "pygments_lexer": "ipython3",
   "version": 3
  },
  "orig_nbformat": 2
 },
 "nbformat": 4,
 "nbformat_minor": 2,
 "cells": [
  {
   "source": [
    "### Structure of Regions:\n",
    "The region is a dictionary object with the following values:\n",
    "- pixels -> list which stores the coordinates of various pixels for each region\n",
    "- pixel values -> list which stores the pixel values for each region\n",
    "- mean color -> a representative of the entire region, used to calculate the similarity of a pixel from the region. \n",
    "\n",
    "### Structure of Elements in Stack:\n",
    "The tuples in the stack will have the pixel coordinates and the pixel value. "
   ],
   "cell_type": "markdown",
   "metadata": {}
  },
  {
   "cell_type": "code",
   "execution_count": null,
   "metadata": {},
   "outputs": [],
   "source": []
  }
 ]
}