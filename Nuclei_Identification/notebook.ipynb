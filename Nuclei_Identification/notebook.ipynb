{
 "metadata": {
  "language_info": {
   "codemirror_mode": {
    "name": "ipython",
    "version": 3
   },
   "file_extension": ".py",
   "mimetype": "text/x-python",
   "name": "python",
   "nbconvert_exporter": "python",
   "pygments_lexer": "ipython3",
   "version": "3.8.0"
  },
  "orig_nbformat": 2,
  "kernelspec": {
   "name": "python3",
   "display_name": "Python 3.8.0 64-bit",
   "metadata": {
    "interpreter": {
     "hash": "8a298693b61c3ef6bd5797ff4e9ec6e70addcdadee3acf16272a421292c70e00"
    }
   }
  }
 },
 "nbformat": 4,
 "nbformat_minor": 2,
 "cells": [
  {
   "cell_type": "code",
   "execution_count": 1,
   "metadata": {},
   "outputs": [],
   "source": [
    "import nuclei"
   ]
  },
  {
   "cell_type": "code",
   "execution_count": 2,
   "metadata": {},
   "outputs": [],
   "source": [
    "\n",
    "import sys\n",
    "import os\n",
    "import cv2 as cv\n",
    "import numpy as np\n",
    "import matplotlib.pyplot as plt\n",
    "\n",
    "from skimage.feature import local_binary_pattern\n",
    "\n",
    "\n",
    "# In[142]:\n",
    "\n",
    "\n",
    "sys.path.append(os.path.join(os.path.dirname(os.getcwd()),\"modules\"))\n",
    "\n",
    "\n",
    "# In[143]:\n",
    "\n",
    "\n",
    "import NbrRegionSegment as seg\n",
    "\n"
   ]
  },
  {
   "cell_type": "code",
   "execution_count": 3,
   "metadata": {},
   "outputs": [],
   "source": [
    "def run(img, withBG = False, path = None):\n",
    "\n",
    "    if not withBG:\n",
    "        # Original is given\n",
    "        if path:\n",
    "            img = cv.imread(path)\n",
    "\n",
    "        #Segment Image\n",
    "        gray_img = cv.cvtColor(img, cv.COLOR_BGR2GRAY)\n",
    "        radius = 1\n",
    "        points = 8*radius \n",
    "        lbp = local_binary_pattern(gray_img, points, radius, \"uniform\").astype(\"uint8\")\n",
    "\n",
    "\n",
    "        wr, wb, wg, wc = 0.09231725,  0.04552005,  0.7421578, 0.9\n",
    "        thres = 12\n",
    "        \n",
    "        lmap, reg = seg.RegionExtract(img, lbp, thres, wr, wg, wb, wc)\n",
    "\n",
    "        r_map = seg.GetBgMap(lmap, 1000, reg)\n",
    "\n",
    "        r_white = np.array(img)\n",
    "        r_white[r_map] = 255\n",
    "\n",
    "        gray = cv.cvtColor(r_white, cv.COLOR_BGR2GRAY)\n",
    "\n",
    "    else :\n",
    "        #Segmented image with BG as Black\n",
    "        gray = cv.cvtColor(img, cv.COLOR_BGR2GRAY)\n",
    "        img[gray == 0] = [255, 255, 255]\n",
    "        gray[gray == 0] = 255\n",
    "        r_white = img\n",
    "\n",
    "    # Otsu thresholding\n",
    "    _, thresh = cv.threshold(gray,0,255,cv.THRESH_BINARY+cv.THRESH_OTSU)\n",
    "\n",
    "    # noise removal, close filled regions\n",
    "    kernel = np.ones((3,3),np.uint8)\n",
    "    opening = cv.morphologyEx(thresh,cv.MORPH_CLOSE,kernel, iterations = 2)\n",
    "\n",
    "    # sure background area\n",
    "    sure_bg = cv.dilate(opening,kernel,iterations=3)\n",
    "\n",
    "    # Finding sure foreground area\n",
    "    dist_transform = cv.distanceTransform(opening,cv.DIST_L2,5)\n",
    "    _, sure_fg = cv.threshold(dist_transform,0.3*dist_transform.max(),255,0)\n",
    "\n",
    "    # Finding unknown region\n",
    "    sure_fg = np.uint8(sure_fg)\n",
    "    unknown = cv.subtract(sure_bg,sure_fg)\n",
    "\n",
    "    # Marker labelling\n",
    "    _, markers = cv.connectedComponents(sure_fg)\n",
    "\n",
    "    # # Add one to all labels so that sure background is not 0, but 1\n",
    "    markers = markers+1\n",
    "\n",
    "    # Now, mark the region of unknown with zero\n",
    "    markers[unknown==255] = 0\n",
    "    markers = cv.watershed(r_white,markers)\n",
    "\n",
    "    # create map for image\n",
    "    outline = np.zeros_like(markers, \"uint8\")\n",
    "    outline[markers == -1] = 255\n",
    "    outline[thresh == 255] = 255\n",
    "\n",
    "    th = np.mean(gray[outline == 0])*0.75\n",
    "\n",
    "    outline[gray>th] = 255\n",
    "    outline[gray<10] = 255\n",
    "\n",
    "    outline = cv.medianBlur(outline, 5)\n",
    "    outline[gray>th] = 255\n",
    "\n",
    "    nuc_mask = outline == 0\n",
    "\n",
    "    tmp = np.array(r_white, \"uint8\")\n",
    "\n",
    "    tmp[nuc_mask] = [0, 255, 0]\n",
    "\n",
    "\n",
    "    tmp2 = np.zeros_like(r_white, \"uint8\")\n",
    "\n",
    "    tmp2[nuc_mask] = r_white[nuc_mask]\n",
    "    # cv.imshow(\"imgorg\", tmp2)\n",
    "\n",
    "    # segmented, reg = seg.RegionExtract(tmp2, np.zeros_like(lbp), 50, wr, wg, wb, 1)\n",
    "    # noise = seg.GetBgMap(segmented, 50, reg)\n",
    "\n",
    "    # tmp2[~noise] = [255, 0, 0]\n",
    "\n",
    "    # tmp2 = cv.medianBlur(tmp2, 5)\n",
    "    # print(np.sum(noise==True))\n",
    "    # print(reg)\n",
    "    # print(tmp2)\n",
    "\n",
    "    cv.imshow(\"img\", tmp2)\n",
    "    cv.imshow(\"out\", img)\n",
    "    cv.imshow(\"img2\", tmp)\n",
    "    cv.waitKey(0)\n",
    "    return\n"
   ]
  },
  {
   "cell_type": "code",
   "execution_count": 8,
   "metadata": {},
   "outputs": [],
   "source": [
    "import FeaturesExtraction.nuclei as fe"
   ]
  },
  {
   "cell_type": "code",
   "execution_count": 11,
   "metadata": {},
   "outputs": [],
   "source": [
    "wr, wb, wg, wc = 0.09231725,  0.04552005,  0.7421578, 0.9\n",
    "thres = 12\n",
    "img = cv.imread(r\"D:\\Project 2\\Project_2\\Region_Growing\\3.jpg\")\n",
    "\n",
    "gray_img = cv.cvtColor(img, cv.COLOR_BGR2GRAY)\n",
    "radius = 1\n",
    "points = 8*radius \n",
    "lbp = local_binary_pattern(gray_img, points, radius, \"uniform\").astype(\"uint8\")\n",
    "\n",
    "r = seg.RemoveBG(img, lbp, thres, 1000, wr, wg, wb, wc)\n",
    "\n",
    "nuc = fe.SegmentNuclei(r)"
   ]
  },
  {
   "cell_type": "code",
   "execution_count": 14,
   "metadata": {},
   "outputs": [],
   "source": [
    "from skimage.feature import greycomatrix"
   ]
  },
  {
   "cell_type": "code",
   "execution_count": 15,
   "metadata": {},
   "outputs": [],
   "source": [
    "glcm = greycomatrix(nuc, [1], [0, 90])"
   ]
  },
  {
   "cell_type": "code",
   "execution_count": 18,
   "metadata": {},
   "outputs": [
    {
     "output_type": "execute_result",
     "data": {
      "text/plain": [
       "2912"
      ]
     },
     "metadata": {},
     "execution_count": 18
    }
   ],
   "source": [
    "glcm[0, -1, 0, 1]"
   ]
  },
  {
   "cell_type": "code",
   "execution_count": 19,
   "metadata": {},
   "outputs": [
    {
     "output_type": "execute_result",
     "data": {
      "text/plain": [
       "12470"
      ]
     },
     "metadata": {},
     "execution_count": 19
    }
   ],
   "source": [
    "np.sum(nuc==0)"
   ]
  },
  {
   "cell_type": "code",
   "execution_count": 21,
   "metadata": {},
   "outputs": [],
   "source": [
    "r, im = cv.connectedComponents(255-nuc)"
   ]
  },
  {
   "cell_type": "code",
   "execution_count": 24,
   "metadata": {},
   "outputs": [
    {
     "output_type": "execute_result",
     "data": {
      "text/plain": [
       "407"
      ]
     },
     "metadata": {},
     "execution_count": 24
    }
   ],
   "source": [
    "r"
   ]
  },
  {
   "cell_type": "code",
   "execution_count": 23,
   "metadata": {},
   "outputs": [
    {
     "output_type": "execute_result",
     "data": {
      "text/plain": [
       "<matplotlib.image.AxesImage at 0x2474f9194f0>"
      ]
     },
     "metadata": {},
     "execution_count": 23
    },
    {
     "output_type": "display_data",
     "data": {
      "text/plain": "<Figure size 432x288 with 1 Axes>",
      "image/svg+xml": "<?xml version=\"1.0\" encoding=\"utf-8\" standalone=\"no\"?>\r\n<!DOCTYPE svg PUBLIC \"-//W3C//DTD SVG 1.1//EN\"\r\n  \"http://www.w3.org/Graphics/SVG/1.1/DTD/svg11.dtd\">\r\n<!-- Created with matplotlib (https://matplotlib.org/) -->\r\n<svg height=\"252.211172pt\" version=\"1.1\" viewBox=\"0 0 272.024922 252.211172\" width=\"272.024922pt\" xmlns=\"http://www.w3.org/2000/svg\" xmlns:xlink=\"http://www.w3.org/1999/xlink\">\r\n <defs>\r\n  <style type=\"text/css\">\r\n*{stroke-linecap:butt;stroke-linejoin:round;}\r\n  </style>\r\n </defs>\r\n <g id=\"figure_1\">\r\n  <g id=\"patch_1\">\r\n   <path d=\"M 0 252.211172 \r\nL 272.024922 252.211172 \r\nL 272.024922 0 \r\nL 0 0 \r\nz\r\n\" style=\"fill:none;\"/>\r\n  </g>\r\n  <g id=\"axes_1\">\r\n   <g id=\"patch_2\">\r\n    <path d=\"M 39.65 228.333047 \r\nL 257.09 228.333047 \r\nL 257.09 10.893047 \r\nL 39.65 10.893047 \r\nz\r\n\" style=\"fill:#ffffff;\"/>\r\n   </g>\r\n   <g clip-path=\"url(#pd738f6214f)\">\r\n    <image height=\"218\" id=\"imagea8b0d5c6df\" transform=\"scale(1 -1)translate(0 -218)\" width=\"218\" x=\"39.65\" xlink:href=\"data:image/png;base64,\r\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\" y=\"-10.333047\"/>\r\n   </g>\r\n   <g id=\"matplotlib.axis_1\">\r\n    <g id=\"xtick_1\">\r\n     <g id=\"line2d_1\">\r\n      <defs>\r\n       <path d=\"M 0 0 \r\nL 0 3.5 \r\n\" id=\"mb3a58e1a2a\" style=\"stroke:#000000;stroke-width:0.8;\"/>\r\n      </defs>\r\n      <g>\r\n       <use style=\"stroke:#000000;stroke-width:0.8;\" x=\"39.756172\" xlink:href=\"#mb3a58e1a2a\" y=\"228.333047\"/>\r\n      </g>\r\n     </g>\r\n     <g id=\"text_1\">\r\n      <!-- 0 -->\r\n      <defs>\r\n       <path d=\"M 31.78125 66.40625 \r\nQ 24.171875 66.40625 20.328125 58.90625 \r\nQ 16.5 51.421875 16.5 36.375 \r\nQ 16.5 21.390625 20.328125 13.890625 \r\nQ 24.171875 6.390625 31.78125 6.390625 \r\nQ 39.453125 6.390625 43.28125 13.890625 \r\nQ 47.125 21.390625 47.125 36.375 \r\nQ 47.125 51.421875 43.28125 58.90625 \r\nQ 39.453125 66.40625 31.78125 66.40625 \r\nz\r\nM 31.78125 74.21875 \r\nQ 44.046875 74.21875 50.515625 64.515625 \r\nQ 56.984375 54.828125 56.984375 36.375 \r\nQ 56.984375 17.96875 50.515625 8.265625 \r\nQ 44.046875 -1.421875 31.78125 -1.421875 \r\nQ 19.53125 -1.421875 13.0625 8.265625 \r\nQ 6.59375 17.96875 6.59375 36.375 \r\nQ 6.59375 54.828125 13.0625 64.515625 \r\nQ 19.53125 74.21875 31.78125 74.21875 \r\nz\r\n\" id=\"DejaVuSans-48\"/>\r\n      </defs>\r\n      <g transform=\"translate(36.574922 242.931484)scale(0.1 -0.1)\">\r\n       <use xlink:href=\"#DejaVuSans-48\"/>\r\n      </g>\r\n     </g>\r\n    </g>\r\n    <g id=\"xtick_2\">\r\n     <g id=\"line2d_2\">\r\n      <g>\r\n       <use style=\"stroke:#000000;stroke-width:0.8;\" x=\"82.224922\" xlink:href=\"#mb3a58e1a2a\" y=\"228.333047\"/>\r\n      </g>\r\n     </g>\r\n     <g id=\"text_2\">\r\n      <!-- 200 -->\r\n      <defs>\r\n       <path d=\"M 19.1875 8.296875 \r\nL 53.609375 8.296875 \r\nL 53.609375 0 \r\nL 7.328125 0 \r\nL 7.328125 8.296875 \r\nQ 12.9375 14.109375 22.625 23.890625 \r\nQ 32.328125 33.6875 34.8125 36.53125 \r\nQ 39.546875 41.84375 41.421875 45.53125 \r\nQ 43.3125 49.21875 43.3125 52.78125 \r\nQ 43.3125 58.59375 39.234375 62.25 \r\nQ 35.15625 65.921875 28.609375 65.921875 \r\nQ 23.96875 65.921875 18.8125 64.3125 \r\nQ 13.671875 62.703125 7.8125 59.421875 \r\nL 7.8125 69.390625 \r\nQ 13.765625 71.78125 18.9375 73 \r\nQ 24.125 74.21875 28.421875 74.21875 \r\nQ 39.75 74.21875 46.484375 68.546875 \r\nQ 53.21875 62.890625 53.21875 53.421875 \r\nQ 53.21875 48.921875 51.53125 44.890625 \r\nQ 49.859375 40.875 45.40625 35.40625 \r\nQ 44.1875 33.984375 37.640625 27.21875 \r\nQ 31.109375 20.453125 19.1875 8.296875 \r\nz\r\n\" id=\"DejaVuSans-50\"/>\r\n      </defs>\r\n      <g transform=\"translate(72.681172 242.931484)scale(0.1 -0.1)\">\r\n       <use xlink:href=\"#DejaVuSans-50\"/>\r\n       <use x=\"63.623047\" xlink:href=\"#DejaVuSans-48\"/>\r\n       <use x=\"127.246094\" xlink:href=\"#DejaVuSans-48\"/>\r\n      </g>\r\n     </g>\r\n    </g>\r\n    <g id=\"xtick_3\">\r\n     <g id=\"line2d_3\">\r\n      <g>\r\n       <use style=\"stroke:#000000;stroke-width:0.8;\" x=\"124.693672\" xlink:href=\"#mb3a58e1a2a\" y=\"228.333047\"/>\r\n      </g>\r\n     </g>\r\n     <g id=\"text_3\">\r\n      <!-- 400 -->\r\n      <defs>\r\n       <path d=\"M 37.796875 64.3125 \r\nL 12.890625 25.390625 \r\nL 37.796875 25.390625 \r\nz\r\nM 35.203125 72.90625 \r\nL 47.609375 72.90625 \r\nL 47.609375 25.390625 \r\nL 58.015625 25.390625 \r\nL 58.015625 17.1875 \r\nL 47.609375 17.1875 \r\nL 47.609375 0 \r\nL 37.796875 0 \r\nL 37.796875 17.1875 \r\nL 4.890625 17.1875 \r\nL 4.890625 26.703125 \r\nz\r\n\" id=\"DejaVuSans-52\"/>\r\n      </defs>\r\n      <g transform=\"translate(115.149922 242.931484)scale(0.1 -0.1)\">\r\n       <use xlink:href=\"#DejaVuSans-52\"/>\r\n       <use x=\"63.623047\" xlink:href=\"#DejaVuSans-48\"/>\r\n       <use x=\"127.246094\" xlink:href=\"#DejaVuSans-48\"/>\r\n      </g>\r\n     </g>\r\n    </g>\r\n    <g id=\"xtick_4\">\r\n     <g id=\"line2d_4\">\r\n      <g>\r\n       <use style=\"stroke:#000000;stroke-width:0.8;\" x=\"167.162422\" xlink:href=\"#mb3a58e1a2a\" y=\"228.333047\"/>\r\n      </g>\r\n     </g>\r\n     <g id=\"text_4\">\r\n      <!-- 600 -->\r\n      <defs>\r\n       <path d=\"M 33.015625 40.375 \r\nQ 26.375 40.375 22.484375 35.828125 \r\nQ 18.609375 31.296875 18.609375 23.390625 \r\nQ 18.609375 15.53125 22.484375 10.953125 \r\nQ 26.375 6.390625 33.015625 6.390625 \r\nQ 39.65625 6.390625 43.53125 10.953125 \r\nQ 47.40625 15.53125 47.40625 23.390625 \r\nQ 47.40625 31.296875 43.53125 35.828125 \r\nQ 39.65625 40.375 33.015625 40.375 \r\nz\r\nM 52.59375 71.296875 \r\nL 52.59375 62.3125 \r\nQ 48.875 64.0625 45.09375 64.984375 \r\nQ 41.3125 65.921875 37.59375 65.921875 \r\nQ 27.828125 65.921875 22.671875 59.328125 \r\nQ 17.53125 52.734375 16.796875 39.40625 \r\nQ 19.671875 43.65625 24.015625 45.921875 \r\nQ 28.375 48.1875 33.59375 48.1875 \r\nQ 44.578125 48.1875 50.953125 41.515625 \r\nQ 57.328125 34.859375 57.328125 23.390625 \r\nQ 57.328125 12.15625 50.6875 5.359375 \r\nQ 44.046875 -1.421875 33.015625 -1.421875 \r\nQ 20.359375 -1.421875 13.671875 8.265625 \r\nQ 6.984375 17.96875 6.984375 36.375 \r\nQ 6.984375 53.65625 15.1875 63.9375 \r\nQ 23.390625 74.21875 37.203125 74.21875 \r\nQ 40.921875 74.21875 44.703125 73.484375 \r\nQ 48.484375 72.75 52.59375 71.296875 \r\nz\r\n\" id=\"DejaVuSans-54\"/>\r\n      </defs>\r\n      <g transform=\"translate(157.618672 242.931484)scale(0.1 -0.1)\">\r\n       <use xlink:href=\"#DejaVuSans-54\"/>\r\n       <use x=\"63.623047\" xlink:href=\"#DejaVuSans-48\"/>\r\n       <use x=\"127.246094\" xlink:href=\"#DejaVuSans-48\"/>\r\n      </g>\r\n     </g>\r\n    </g>\r\n    <g id=\"xtick_5\">\r\n     <g id=\"line2d_5\">\r\n      <g>\r\n       <use style=\"stroke:#000000;stroke-width:0.8;\" x=\"209.631172\" xlink:href=\"#mb3a58e1a2a\" y=\"228.333047\"/>\r\n      </g>\r\n     </g>\r\n     <g id=\"text_5\">\r\n      <!-- 800 -->\r\n      <defs>\r\n       <path d=\"M 31.78125 34.625 \r\nQ 24.75 34.625 20.71875 30.859375 \r\nQ 16.703125 27.09375 16.703125 20.515625 \r\nQ 16.703125 13.921875 20.71875 10.15625 \r\nQ 24.75 6.390625 31.78125 6.390625 \r\nQ 38.8125 6.390625 42.859375 10.171875 \r\nQ 46.921875 13.96875 46.921875 20.515625 \r\nQ 46.921875 27.09375 42.890625 30.859375 \r\nQ 38.875 34.625 31.78125 34.625 \r\nz\r\nM 21.921875 38.8125 \r\nQ 15.578125 40.375 12.03125 44.71875 \r\nQ 8.5 49.078125 8.5 55.328125 \r\nQ 8.5 64.0625 14.71875 69.140625 \r\nQ 20.953125 74.21875 31.78125 74.21875 \r\nQ 42.671875 74.21875 48.875 69.140625 \r\nQ 55.078125 64.0625 55.078125 55.328125 \r\nQ 55.078125 49.078125 51.53125 44.71875 \r\nQ 48 40.375 41.703125 38.8125 \r\nQ 48.828125 37.15625 52.796875 32.3125 \r\nQ 56.78125 27.484375 56.78125 20.515625 \r\nQ 56.78125 9.90625 50.3125 4.234375 \r\nQ 43.84375 -1.421875 31.78125 -1.421875 \r\nQ 19.734375 -1.421875 13.25 4.234375 \r\nQ 6.78125 9.90625 6.78125 20.515625 \r\nQ 6.78125 27.484375 10.78125 32.3125 \r\nQ 14.796875 37.15625 21.921875 38.8125 \r\nz\r\nM 18.3125 54.390625 \r\nQ 18.3125 48.734375 21.84375 45.5625 \r\nQ 25.390625 42.390625 31.78125 42.390625 \r\nQ 38.140625 42.390625 41.71875 45.5625 \r\nQ 45.3125 48.734375 45.3125 54.390625 \r\nQ 45.3125 60.0625 41.71875 63.234375 \r\nQ 38.140625 66.40625 31.78125 66.40625 \r\nQ 25.390625 66.40625 21.84375 63.234375 \r\nQ 18.3125 60.0625 18.3125 54.390625 \r\nz\r\n\" id=\"DejaVuSans-56\"/>\r\n      </defs>\r\n      <g transform=\"translate(200.087422 242.931484)scale(0.1 -0.1)\">\r\n       <use xlink:href=\"#DejaVuSans-56\"/>\r\n       <use x=\"63.623047\" xlink:href=\"#DejaVuSans-48\"/>\r\n       <use x=\"127.246094\" xlink:href=\"#DejaVuSans-48\"/>\r\n      </g>\r\n     </g>\r\n    </g>\r\n    <g id=\"xtick_6\">\r\n     <g id=\"line2d_6\">\r\n      <g>\r\n       <use style=\"stroke:#000000;stroke-width:0.8;\" x=\"252.099922\" xlink:href=\"#mb3a58e1a2a\" y=\"228.333047\"/>\r\n      </g>\r\n     </g>\r\n     <g id=\"text_6\">\r\n      <!-- 1000 -->\r\n      <defs>\r\n       <path d=\"M 12.40625 8.296875 \r\nL 28.515625 8.296875 \r\nL 28.515625 63.921875 \r\nL 10.984375 60.40625 \r\nL 10.984375 69.390625 \r\nL 28.421875 72.90625 \r\nL 38.28125 72.90625 \r\nL 38.28125 8.296875 \r\nL 54.390625 8.296875 \r\nL 54.390625 0 \r\nL 12.40625 0 \r\nz\r\n\" id=\"DejaVuSans-49\"/>\r\n      </defs>\r\n      <g transform=\"translate(239.374922 242.931484)scale(0.1 -0.1)\">\r\n       <use xlink:href=\"#DejaVuSans-49\"/>\r\n       <use x=\"63.623047\" xlink:href=\"#DejaVuSans-48\"/>\r\n       <use x=\"127.246094\" xlink:href=\"#DejaVuSans-48\"/>\r\n       <use x=\"190.869141\" xlink:href=\"#DejaVuSans-48\"/>\r\n      </g>\r\n     </g>\r\n    </g>\r\n   </g>\r\n   <g id=\"matplotlib.axis_2\">\r\n    <g id=\"ytick_1\">\r\n     <g id=\"line2d_7\">\r\n      <defs>\r\n       <path d=\"M 0 0 \r\nL -3.5 0 \r\n\" id=\"md4b003e5d7\" style=\"stroke:#000000;stroke-width:0.8;\"/>\r\n      </defs>\r\n      <g>\r\n       <use style=\"stroke:#000000;stroke-width:0.8;\" x=\"39.65\" xlink:href=\"#md4b003e5d7\" y=\"10.999219\"/>\r\n      </g>\r\n     </g>\r\n     <g id=\"text_7\">\r\n      <!-- 0 -->\r\n      <g transform=\"translate(26.2875 14.798437)scale(0.1 -0.1)\">\r\n       <use xlink:href=\"#DejaVuSans-48\"/>\r\n      </g>\r\n     </g>\r\n    </g>\r\n    <g id=\"ytick_2\">\r\n     <g id=\"line2d_8\">\r\n      <g>\r\n       <use style=\"stroke:#000000;stroke-width:0.8;\" x=\"39.65\" xlink:href=\"#md4b003e5d7\" y=\"53.467969\"/>\r\n      </g>\r\n     </g>\r\n     <g id=\"text_8\">\r\n      <!-- 200 -->\r\n      <g transform=\"translate(13.5625 57.267187)scale(0.1 -0.1)\">\r\n       <use xlink:href=\"#DejaVuSans-50\"/>\r\n       <use x=\"63.623047\" xlink:href=\"#DejaVuSans-48\"/>\r\n       <use x=\"127.246094\" xlink:href=\"#DejaVuSans-48\"/>\r\n      </g>\r\n     </g>\r\n    </g>\r\n    <g id=\"ytick_3\">\r\n     <g id=\"line2d_9\">\r\n      <g>\r\n       <use style=\"stroke:#000000;stroke-width:0.8;\" x=\"39.65\" xlink:href=\"#md4b003e5d7\" y=\"95.936719\"/>\r\n      </g>\r\n     </g>\r\n     <g id=\"text_9\">\r\n      <!-- 400 -->\r\n      <g transform=\"translate(13.5625 99.735937)scale(0.1 -0.1)\">\r\n       <use xlink:href=\"#DejaVuSans-52\"/>\r\n       <use x=\"63.623047\" xlink:href=\"#DejaVuSans-48\"/>\r\n       <use x=\"127.246094\" xlink:href=\"#DejaVuSans-48\"/>\r\n      </g>\r\n     </g>\r\n    </g>\r\n    <g id=\"ytick_4\">\r\n     <g id=\"line2d_10\">\r\n      <g>\r\n       <use style=\"stroke:#000000;stroke-width:0.8;\" x=\"39.65\" xlink:href=\"#md4b003e5d7\" y=\"138.405469\"/>\r\n      </g>\r\n     </g>\r\n     <g id=\"text_10\">\r\n      <!-- 600 -->\r\n      <g transform=\"translate(13.5625 142.204687)scale(0.1 -0.1)\">\r\n       <use xlink:href=\"#DejaVuSans-54\"/>\r\n       <use x=\"63.623047\" xlink:href=\"#DejaVuSans-48\"/>\r\n       <use x=\"127.246094\" xlink:href=\"#DejaVuSans-48\"/>\r\n      </g>\r\n     </g>\r\n    </g>\r\n    <g id=\"ytick_5\">\r\n     <g id=\"line2d_11\">\r\n      <g>\r\n       <use style=\"stroke:#000000;stroke-width:0.8;\" x=\"39.65\" xlink:href=\"#md4b003e5d7\" y=\"180.874219\"/>\r\n      </g>\r\n     </g>\r\n     <g id=\"text_11\">\r\n      <!-- 800 -->\r\n      <g transform=\"translate(13.5625 184.673437)scale(0.1 -0.1)\">\r\n       <use xlink:href=\"#DejaVuSans-56\"/>\r\n       <use x=\"63.623047\" xlink:href=\"#DejaVuSans-48\"/>\r\n       <use x=\"127.246094\" xlink:href=\"#DejaVuSans-48\"/>\r\n      </g>\r\n     </g>\r\n    </g>\r\n    <g id=\"ytick_6\">\r\n     <g id=\"line2d_12\">\r\n      <g>\r\n       <use style=\"stroke:#000000;stroke-width:0.8;\" x=\"39.65\" xlink:href=\"#md4b003e5d7\" y=\"223.342969\"/>\r\n      </g>\r\n     </g>\r\n     <g id=\"text_12\">\r\n      <!-- 1000 -->\r\n      <g transform=\"translate(7.2 227.142187)scale(0.1 -0.1)\">\r\n       <use xlink:href=\"#DejaVuSans-49\"/>\r\n       <use x=\"63.623047\" xlink:href=\"#DejaVuSans-48\"/>\r\n       <use x=\"127.246094\" xlink:href=\"#DejaVuSans-48\"/>\r\n       <use x=\"190.869141\" xlink:href=\"#DejaVuSans-48\"/>\r\n      </g>\r\n     </g>\r\n    </g>\r\n   </g>\r\n   <g id=\"patch_3\">\r\n    <path d=\"M 39.65 228.333047 \r\nL 39.65 10.893047 \r\n\" style=\"fill:none;stroke:#000000;stroke-linecap:square;stroke-linejoin:miter;stroke-width:0.8;\"/>\r\n   </g>\r\n   <g id=\"patch_4\">\r\n    <path d=\"M 257.09 228.333047 \r\nL 257.09 10.893047 \r\n\" style=\"fill:none;stroke:#000000;stroke-linecap:square;stroke-linejoin:miter;stroke-width:0.8;\"/>\r\n   </g>\r\n   <g id=\"patch_5\">\r\n    <path d=\"M 39.65 228.333047 \r\nL 257.09 228.333047 \r\n\" style=\"fill:none;stroke:#000000;stroke-linecap:square;stroke-linejoin:miter;stroke-width:0.8;\"/>\r\n   </g>\r\n   <g id=\"patch_6\">\r\n    <path d=\"M 39.65 10.893047 \r\nL 257.09 10.893047 \r\n\" style=\"fill:none;stroke:#000000;stroke-linecap:square;stroke-linejoin:miter;stroke-width:0.8;\"/>\r\n   </g>\r\n  </g>\r\n </g>\r\n <defs>\r\n  <clipPath id=\"pd738f6214f\">\r\n   <rect height=\"217.44\" width=\"217.44\" x=\"39.65\" y=\"10.893047\"/>\r\n  </clipPath>\r\n </defs>\r\n</svg>\r\n",
      "image/png": "[encoded data removed]"
     },
     "metadata": {
      "needs_background": "light"
     }
    }
   ],
   "source": [
    "plt.imshow(255-nuc)"
   ]
  },
  {
   "cell_type": "code",
   "execution_count": 22,
   "metadata": {},
   "outputs": [
    {
     "output_type": "execute_result",
     "data": {
      "text/plain": [
       "<matplotlib.image.AxesImage at 0x2474ef28730>"
      ]
     },
     "metadata": {},
     "execution_count": 22
    },
    {
     "output_type": "display_data",
     "data": {
      "text/plain": "<Figure size 432x288 with 1 Axes>",
      "image/svg+xml": "<?xml version=\"1.0\" encoding=\"utf-8\" standalone=\"no\"?>\r\n<!DOCTYPE svg PUBLIC \"-//W3C//DTD SVG 1.1//EN\"\r\n  \"http://www.w3.org/Graphics/SVG/1.1/DTD/svg11.dtd\">\r\n<!-- Created with matplotlib (https://matplotlib.org/) -->\r\n<svg height=\"252.211172pt\" version=\"1.1\" viewBox=\"0 0 272.024922 252.211172\" width=\"272.024922pt\" xmlns=\"http://www.w3.org/2000/svg\" xmlns:xlink=\"http://www.w3.org/1999/xlink\">\r\n <defs>\r\n  <style type=\"text/css\">\r\n*{stroke-linecap:butt;stroke-linejoin:round;}\r\n  </style>\r\n </defs>\r\n <g id=\"figure_1\">\r\n  <g id=\"patch_1\">\r\n   <path d=\"M 0 252.211172 \r\nL 272.024922 252.211172 \r\nL 272.024922 0 \r\nL 0 0 \r\nz\r\n\" style=\"fill:none;\"/>\r\n  </g>\r\n  <g id=\"axes_1\">\r\n   <g id=\"patch_2\">\r\n    <path d=\"M 39.65 228.333047 \r\nL 257.09 228.333047 \r\nL 257.09 10.893047 \r\nL 39.65 10.893047 \r\nz\r\n\" style=\"fill:#ffffff;\"/>\r\n   </g>\r\n   <g clip-path=\"url(#p9997108b0d)\">\r\n    <image height=\"218\" id=\"imagef750ba6564\" transform=\"scale(1 -1)translate(0 -218)\" width=\"218\" x=\"39.65\" xlink:href=\"data:image/png;base64,\r\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\" y=\"-10.333047\"/>\r\n   </g>\r\n   <g id=\"matplotlib.axis_1\">\r\n    <g id=\"xtick_1\">\r\n     <g id=\"line2d_1\">\r\n      <defs>\r\n       <path d=\"M 0 0 \r\nL 0 3.5 \r\n\" id=\"m68719a8390\" style=\"stroke:#000000;stroke-width:0.8;\"/>\r\n      </defs>\r\n      <g>\r\n       <use style=\"stroke:#000000;stroke-width:0.8;\" x=\"39.756172\" xlink:href=\"#m68719a8390\" y=\"228.333047\"/>\r\n      </g>\r\n     </g>\r\n     <g id=\"text_1\">\r\n      <!-- 0 -->\r\n      <defs>\r\n       <path d=\"M 31.78125 66.40625 \r\nQ 24.171875 66.40625 20.328125 58.90625 \r\nQ 16.5 51.421875 16.5 36.375 \r\nQ 16.5 21.390625 20.328125 13.890625 \r\nQ 24.171875 6.390625 31.78125 6.390625 \r\nQ 39.453125 6.390625 43.28125 13.890625 \r\nQ 47.125 21.390625 47.125 36.375 \r\nQ 47.125 51.421875 43.28125 58.90625 \r\nQ 39.453125 66.40625 31.78125 66.40625 \r\nz\r\nM 31.78125 74.21875 \r\nQ 44.046875 74.21875 50.515625 64.515625 \r\nQ 56.984375 54.828125 56.984375 36.375 \r\nQ 56.984375 17.96875 50.515625 8.265625 \r\nQ 44.046875 -1.421875 31.78125 -1.421875 \r\nQ 19.53125 -1.421875 13.0625 8.265625 \r\nQ 6.59375 17.96875 6.59375 36.375 \r\nQ 6.59375 54.828125 13.0625 64.515625 \r\nQ 19.53125 74.21875 31.78125 74.21875 \r\nz\r\n\" id=\"DejaVuSans-48\"/>\r\n      </defs>\r\n      <g transform=\"translate(36.574922 242.931484)scale(0.1 -0.1)\">\r\n       <use xlink:href=\"#DejaVuSans-48\"/>\r\n      </g>\r\n     </g>\r\n    </g>\r\n    <g id=\"xtick_2\">\r\n     <g id=\"line2d_2\">\r\n      <g>\r\n       <use style=\"stroke:#000000;stroke-width:0.8;\" x=\"82.224922\" xlink:href=\"#m68719a8390\" y=\"228.333047\"/>\r\n      </g>\r\n     </g>\r\n     <g id=\"text_2\">\r\n      <!-- 200 -->\r\n      <defs>\r\n       <path d=\"M 19.1875 8.296875 \r\nL 53.609375 8.296875 \r\nL 53.609375 0 \r\nL 7.328125 0 \r\nL 7.328125 8.296875 \r\nQ 12.9375 14.109375 22.625 23.890625 \r\nQ 32.328125 33.6875 34.8125 36.53125 \r\nQ 39.546875 41.84375 41.421875 45.53125 \r\nQ 43.3125 49.21875 43.3125 52.78125 \r\nQ 43.3125 58.59375 39.234375 62.25 \r\nQ 35.15625 65.921875 28.609375 65.921875 \r\nQ 23.96875 65.921875 18.8125 64.3125 \r\nQ 13.671875 62.703125 7.8125 59.421875 \r\nL 7.8125 69.390625 \r\nQ 13.765625 71.78125 18.9375 73 \r\nQ 24.125 74.21875 28.421875 74.21875 \r\nQ 39.75 74.21875 46.484375 68.546875 \r\nQ 53.21875 62.890625 53.21875 53.421875 \r\nQ 53.21875 48.921875 51.53125 44.890625 \r\nQ 49.859375 40.875 45.40625 35.40625 \r\nQ 44.1875 33.984375 37.640625 27.21875 \r\nQ 31.109375 20.453125 19.1875 8.296875 \r\nz\r\n\" id=\"DejaVuSans-50\"/>\r\n      </defs>\r\n      <g transform=\"translate(72.681172 242.931484)scale(0.1 -0.1)\">\r\n       <use xlink:href=\"#DejaVuSans-50\"/>\r\n       <use x=\"63.623047\" xlink:href=\"#DejaVuSans-48\"/>\r\n       <use x=\"127.246094\" xlink:href=\"#DejaVuSans-48\"/>\r\n      </g>\r\n     </g>\r\n    </g>\r\n    <g id=\"xtick_3\">\r\n     <g id=\"line2d_3\">\r\n      <g>\r\n       <use style=\"stroke:#000000;stroke-width:0.8;\" x=\"124.693672\" xlink:href=\"#m68719a8390\" y=\"228.333047\"/>\r\n      </g>\r\n     </g>\r\n     <g id=\"text_3\">\r\n      <!-- 400 -->\r\n      <defs>\r\n       <path d=\"M 37.796875 64.3125 \r\nL 12.890625 25.390625 \r\nL 37.796875 25.390625 \r\nz\r\nM 35.203125 72.90625 \r\nL 47.609375 72.90625 \r\nL 47.609375 25.390625 \r\nL 58.015625 25.390625 \r\nL 58.015625 17.1875 \r\nL 47.609375 17.1875 \r\nL 47.609375 0 \r\nL 37.796875 0 \r\nL 37.796875 17.1875 \r\nL 4.890625 17.1875 \r\nL 4.890625 26.703125 \r\nz\r\n\" id=\"DejaVuSans-52\"/>\r\n      </defs>\r\n      <g transform=\"translate(115.149922 242.931484)scale(0.1 -0.1)\">\r\n       <use xlink:href=\"#DejaVuSans-52\"/>\r\n       <use x=\"63.623047\" xlink:href=\"#DejaVuSans-48\"/>\r\n       <use x=\"127.246094\" xlink:href=\"#DejaVuSans-48\"/>\r\n      </g>\r\n     </g>\r\n    </g>\r\n    <g id=\"xtick_4\">\r\n     <g id=\"line2d_4\">\r\n      <g>\r\n       <use style=\"stroke:#000000;stroke-width:0.8;\" x=\"167.162422\" xlink:href=\"#m68719a8390\" y=\"228.333047\"/>\r\n      </g>\r\n     </g>\r\n     <g id=\"text_4\">\r\n      <!-- 600 -->\r\n      <defs>\r\n       <path d=\"M 33.015625 40.375 \r\nQ 26.375 40.375 22.484375 35.828125 \r\nQ 18.609375 31.296875 18.609375 23.390625 \r\nQ 18.609375 15.53125 22.484375 10.953125 \r\nQ 26.375 6.390625 33.015625 6.390625 \r\nQ 39.65625 6.390625 43.53125 10.953125 \r\nQ 47.40625 15.53125 47.40625 23.390625 \r\nQ 47.40625 31.296875 43.53125 35.828125 \r\nQ 39.65625 40.375 33.015625 40.375 \r\nz\r\nM 52.59375 71.296875 \r\nL 52.59375 62.3125 \r\nQ 48.875 64.0625 45.09375 64.984375 \r\nQ 41.3125 65.921875 37.59375 65.921875 \r\nQ 27.828125 65.921875 22.671875 59.328125 \r\nQ 17.53125 52.734375 16.796875 39.40625 \r\nQ 19.671875 43.65625 24.015625 45.921875 \r\nQ 28.375 48.1875 33.59375 48.1875 \r\nQ 44.578125 48.1875 50.953125 41.515625 \r\nQ 57.328125 34.859375 57.328125 23.390625 \r\nQ 57.328125 12.15625 50.6875 5.359375 \r\nQ 44.046875 -1.421875 33.015625 -1.421875 \r\nQ 20.359375 -1.421875 13.671875 8.265625 \r\nQ 6.984375 17.96875 6.984375 36.375 \r\nQ 6.984375 53.65625 15.1875 63.9375 \r\nQ 23.390625 74.21875 37.203125 74.21875 \r\nQ 40.921875 74.21875 44.703125 73.484375 \r\nQ 48.484375 72.75 52.59375 71.296875 \r\nz\r\n\" id=\"DejaVuSans-54\"/>\r\n      </defs>\r\n      <g transform=\"translate(157.618672 242.931484)scale(0.1 -0.1)\">\r\n       <use xlink:href=\"#DejaVuSans-54\"/>\r\n       <use x=\"63.623047\" xlink:href=\"#DejaVuSans-48\"/>\r\n       <use x=\"127.246094\" xlink:href=\"#DejaVuSans-48\"/>\r\n      </g>\r\n     </g>\r\n    </g>\r\n    <g id=\"xtick_5\">\r\n     <g id=\"line2d_5\">\r\n      <g>\r\n       <use style=\"stroke:#000000;stroke-width:0.8;\" x=\"209.631172\" xlink:href=\"#m68719a8390\" y=\"228.333047\"/>\r\n      </g>\r\n     </g>\r\n     <g id=\"text_5\">\r\n      <!-- 800 -->\r\n      <defs>\r\n       <path d=\"M 31.78125 34.625 \r\nQ 24.75 34.625 20.71875 30.859375 \r\nQ 16.703125 27.09375 16.703125 20.515625 \r\nQ 16.703125 13.921875 20.71875 10.15625 \r\nQ 24.75 6.390625 31.78125 6.390625 \r\nQ 38.8125 6.390625 42.859375 10.171875 \r\nQ 46.921875 13.96875 46.921875 20.515625 \r\nQ 46.921875 27.09375 42.890625 30.859375 \r\nQ 38.875 34.625 31.78125 34.625 \r\nz\r\nM 21.921875 38.8125 \r\nQ 15.578125 40.375 12.03125 44.71875 \r\nQ 8.5 49.078125 8.5 55.328125 \r\nQ 8.5 64.0625 14.71875 69.140625 \r\nQ 20.953125 74.21875 31.78125 74.21875 \r\nQ 42.671875 74.21875 48.875 69.140625 \r\nQ 55.078125 64.0625 55.078125 55.328125 \r\nQ 55.078125 49.078125 51.53125 44.71875 \r\nQ 48 40.375 41.703125 38.8125 \r\nQ 48.828125 37.15625 52.796875 32.3125 \r\nQ 56.78125 27.484375 56.78125 20.515625 \r\nQ 56.78125 9.90625 50.3125 4.234375 \r\nQ 43.84375 -1.421875 31.78125 -1.421875 \r\nQ 19.734375 -1.421875 13.25 4.234375 \r\nQ 6.78125 9.90625 6.78125 20.515625 \r\nQ 6.78125 27.484375 10.78125 32.3125 \r\nQ 14.796875 37.15625 21.921875 38.8125 \r\nz\r\nM 18.3125 54.390625 \r\nQ 18.3125 48.734375 21.84375 45.5625 \r\nQ 25.390625 42.390625 31.78125 42.390625 \r\nQ 38.140625 42.390625 41.71875 45.5625 \r\nQ 45.3125 48.734375 45.3125 54.390625 \r\nQ 45.3125 60.0625 41.71875 63.234375 \r\nQ 38.140625 66.40625 31.78125 66.40625 \r\nQ 25.390625 66.40625 21.84375 63.234375 \r\nQ 18.3125 60.0625 18.3125 54.390625 \r\nz\r\n\" id=\"DejaVuSans-56\"/>\r\n      </defs>\r\n      <g transform=\"translate(200.087422 242.931484)scale(0.1 -0.1)\">\r\n       <use xlink:href=\"#DejaVuSans-56\"/>\r\n       <use x=\"63.623047\" xlink:href=\"#DejaVuSans-48\"/>\r\n       <use x=\"127.246094\" xlink:href=\"#DejaVuSans-48\"/>\r\n      </g>\r\n     </g>\r\n    </g>\r\n    <g id=\"xtick_6\">\r\n     <g id=\"line2d_6\">\r\n      <g>\r\n       <use style=\"stroke:#000000;stroke-width:0.8;\" x=\"252.099922\" xlink:href=\"#m68719a8390\" y=\"228.333047\"/>\r\n      </g>\r\n     </g>\r\n     <g id=\"text_6\">\r\n      <!-- 1000 -->\r\n      <defs>\r\n       <path d=\"M 12.40625 8.296875 \r\nL 28.515625 8.296875 \r\nL 28.515625 63.921875 \r\nL 10.984375 60.40625 \r\nL 10.984375 69.390625 \r\nL 28.421875 72.90625 \r\nL 38.28125 72.90625 \r\nL 38.28125 8.296875 \r\nL 54.390625 8.296875 \r\nL 54.390625 0 \r\nL 12.40625 0 \r\nz\r\n\" id=\"DejaVuSans-49\"/>\r\n      </defs>\r\n      <g transform=\"translate(239.374922 242.931484)scale(0.1 -0.1)\">\r\n       <use xlink:href=\"#DejaVuSans-49\"/>\r\n       <use x=\"63.623047\" xlink:href=\"#DejaVuSans-48\"/>\r\n       <use x=\"127.246094\" xlink:href=\"#DejaVuSans-48\"/>\r\n       <use x=\"190.869141\" xlink:href=\"#DejaVuSans-48\"/>\r\n      </g>\r\n     </g>\r\n    </g>\r\n   </g>\r\n   <g id=\"matplotlib.axis_2\">\r\n    <g id=\"ytick_1\">\r\n     <g id=\"line2d_7\">\r\n      <defs>\r\n       <path d=\"M 0 0 \r\nL -3.5 0 \r\n\" id=\"m84686e9008\" style=\"stroke:#000000;stroke-width:0.8;\"/>\r\n      </defs>\r\n      <g>\r\n       <use style=\"stroke:#000000;stroke-width:0.8;\" x=\"39.65\" xlink:href=\"#m84686e9008\" y=\"10.999219\"/>\r\n      </g>\r\n     </g>\r\n     <g id=\"text_7\">\r\n      <!-- 0 -->\r\n      <g transform=\"translate(26.2875 14.798437)scale(0.1 -0.1)\">\r\n       <use xlink:href=\"#DejaVuSans-48\"/>\r\n      </g>\r\n     </g>\r\n    </g>\r\n    <g id=\"ytick_2\">\r\n     <g id=\"line2d_8\">\r\n      <g>\r\n       <use style=\"stroke:#000000;stroke-width:0.8;\" x=\"39.65\" xlink:href=\"#m84686e9008\" y=\"53.467969\"/>\r\n      </g>\r\n     </g>\r\n     <g id=\"text_8\">\r\n      <!-- 200 -->\r\n      <g transform=\"translate(13.5625 57.267187)scale(0.1 -0.1)\">\r\n       <use xlink:href=\"#DejaVuSans-50\"/>\r\n       <use x=\"63.623047\" xlink:href=\"#DejaVuSans-48\"/>\r\n       <use x=\"127.246094\" xlink:href=\"#DejaVuSans-48\"/>\r\n      </g>\r\n     </g>\r\n    </g>\r\n    <g id=\"ytick_3\">\r\n     <g id=\"line2d_9\">\r\n      <g>\r\n       <use style=\"stroke:#000000;stroke-width:0.8;\" x=\"39.65\" xlink:href=\"#m84686e9008\" y=\"95.936719\"/>\r\n      </g>\r\n     </g>\r\n     <g id=\"text_9\">\r\n      <!-- 400 -->\r\n      <g transform=\"translate(13.5625 99.735937)scale(0.1 -0.1)\">\r\n       <use xlink:href=\"#DejaVuSans-52\"/>\r\n       <use x=\"63.623047\" xlink:href=\"#DejaVuSans-48\"/>\r\n       <use x=\"127.246094\" xlink:href=\"#DejaVuSans-48\"/>\r\n      </g>\r\n     </g>\r\n    </g>\r\n    <g id=\"ytick_4\">\r\n     <g id=\"line2d_10\">\r\n      <g>\r\n       <use style=\"stroke:#000000;stroke-width:0.8;\" x=\"39.65\" xlink:href=\"#m84686e9008\" y=\"138.405469\"/>\r\n      </g>\r\n     </g>\r\n     <g id=\"text_10\">\r\n      <!-- 600 -->\r\n      <g transform=\"translate(13.5625 142.204687)scale(0.1 -0.1)\">\r\n       <use xlink:href=\"#DejaVuSans-54\"/>\r\n       <use x=\"63.623047\" xlink:href=\"#DejaVuSans-48\"/>\r\n       <use x=\"127.246094\" xlink:href=\"#DejaVuSans-48\"/>\r\n      </g>\r\n     </g>\r\n    </g>\r\n    <g id=\"ytick_5\">\r\n     <g id=\"line2d_11\">\r\n      <g>\r\n       <use style=\"stroke:#000000;stroke-width:0.8;\" x=\"39.65\" xlink:href=\"#m84686e9008\" y=\"180.874219\"/>\r\n      </g>\r\n     </g>\r\n     <g id=\"text_11\">\r\n      <!-- 800 -->\r\n      <g transform=\"translate(13.5625 184.673437)scale(0.1 -0.1)\">\r\n       <use xlink:href=\"#DejaVuSans-56\"/>\r\n       <use x=\"63.623047\" xlink:href=\"#DejaVuSans-48\"/>\r\n       <use x=\"127.246094\" xlink:href=\"#DejaVuSans-48\"/>\r\n      </g>\r\n     </g>\r\n    </g>\r\n    <g id=\"ytick_6\">\r\n     <g id=\"line2d_12\">\r\n      <g>\r\n       <use style=\"stroke:#000000;stroke-width:0.8;\" x=\"39.65\" xlink:href=\"#m84686e9008\" y=\"223.342969\"/>\r\n      </g>\r\n     </g>\r\n     <g id=\"text_12\">\r\n      <!-- 1000 -->\r\n      <g transform=\"translate(7.2 227.142187)scale(0.1 -0.1)\">\r\n       <use xlink:href=\"#DejaVuSans-49\"/>\r\n       <use x=\"63.623047\" xlink:href=\"#DejaVuSans-48\"/>\r\n       <use x=\"127.246094\" xlink:href=\"#DejaVuSans-48\"/>\r\n       <use x=\"190.869141\" xlink:href=\"#DejaVuSans-48\"/>\r\n      </g>\r\n     </g>\r\n    </g>\r\n   </g>\r\n   <g id=\"patch_3\">\r\n    <path d=\"M 39.65 228.333047 \r\nL 39.65 10.893047 \r\n\" style=\"fill:none;stroke:#000000;stroke-linecap:square;stroke-linejoin:miter;stroke-width:0.8;\"/>\r\n   </g>\r\n   <g id=\"patch_4\">\r\n    <path d=\"M 257.09 228.333047 \r\nL 257.09 10.893047 \r\n\" style=\"fill:none;stroke:#000000;stroke-linecap:square;stroke-linejoin:miter;stroke-width:0.8;\"/>\r\n   </g>\r\n   <g id=\"patch_5\">\r\n    <path d=\"M 39.65 228.333047 \r\nL 257.09 228.333047 \r\n\" style=\"fill:none;stroke:#000000;stroke-linecap:square;stroke-linejoin:miter;stroke-width:0.8;\"/>\r\n   </g>\r\n   <g id=\"patch_6\">\r\n    <path d=\"M 39.65 10.893047 \r\nL 257.09 10.893047 \r\n\" style=\"fill:none;stroke:#000000;stroke-linecap:square;stroke-linejoin:miter;stroke-width:0.8;\"/>\r\n   </g>\r\n  </g>\r\n </g>\r\n <defs>\r\n  <clipPath id=\"p9997108b0d\">\r\n   <rect height=\"217.44\" width=\"217.44\" x=\"39.65\" y=\"10.893047\"/>\r\n  </clipPath>\r\n </defs>\r\n</svg>\r\n",
      "image/png": "[encoded data removed]"
     },
     "metadata": {
      "needs_background": "light"
     }
    }
   ],
   "source": [
    "plt.imshow(im)"
   ]
  },
  {
   "cell_type": "code",
   "execution_count": null,
   "metadata": {},
   "outputs": [],
   "source": []
  }
 ]
}