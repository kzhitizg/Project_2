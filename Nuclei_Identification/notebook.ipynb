{
 "metadata": {
  "language_info": {
   "codemirror_mode": {
    "name": "ipython",
    "version": 3
   },
   "file_extension": ".py",
   "mimetype": "text/x-python",
   "name": "python",
   "nbconvert_exporter": "python",
   "pygments_lexer": "ipython3",
   "version": "3.8.0"
  },
  "orig_nbformat": 2,
  "kernelspec": {
   "name": "python3",
   "display_name": "Python 3.8.0 64-bit",
   "metadata": {
    "interpreter": {
     "hash": "8a298693b61c3ef6bd5797ff4e9ec6e70addcdadee3acf16272a421292c70e00"
    }
   }
  }
 },
 "nbformat": 4,
 "nbformat_minor": 2,
 "cells": [
  {
   "cell_type": "code",
   "execution_count": 1,
   "metadata": {},
   "outputs": [],
   "source": [
    "\n",
    "import sys\n",
    "import os\n",
    "import cv2 as cv\n",
    "import numpy as np\n",
    "import matplotlib.pyplot as plt\n",
    "\n",
    "from skimage.feature import local_binary_pattern\n",
    "\n",
    "\n",
    "# In[142]:\n",
    "\n",
    "\n",
    "sys.path.append(os.path.join(os.path.dirname(os.getcwd()),\"modules\"))\n",
    "\n",
    "\n",
    "# In[143]:\n",
    "\n",
    "\n",
    "import NbrRegionSegment as seg\n",
    "\n"
   ]
  },
  {
   "cell_type": "code",
   "execution_count": 49,
   "metadata": {},
   "outputs": [],
   "source": [
    "import FeaturesExtraction.nuclei as fe"
   ]
  },
  {
   "cell_type": "code",
   "execution_count": 88,
   "metadata": {},
   "outputs": [],
   "source": [
    "wr, wg, wb, wc = 0.09231725,  0.04552005,  0.7421578, 0.9\n",
    "thres = 12\n",
    "img = cv.imread(r\"D:\\Project 2\\Project_2\\Dataset\\Case_48_-_P5_C23-54011-19464.jpg\")\n",
    "\n",
    "gray_img = cv.cvtColor(img, cv.COLOR_BGR2GRAY)\n",
    "radius = 1\n",
    "points = 8*radius \n",
    "lbp = local_binary_pattern(gray_img, points, radius, \"uniform\").astype(\"uint8\")\n",
    "\n",
    "r = seg.RemoveBG(img, lbp, thres, 1000, wr, wg, wb, wc)\n",
    "\n",
    "nuc = fe.SegmentNuclei(r)"
   ]
  },
  {
   "cell_type": "code",
   "execution_count": 89,
   "metadata": {},
   "outputs": [],
   "source": [
    "gray = cv.cvtColor(r, cv.COLOR_BGR2GRAY)\n",
    "\n",
    "# Otsu thresholding\n",
    "\n",
    "ret, thresh = cv.threshold(gray[gray<200],0,255,cv.THRESH_BINARY+cv.THRESH_OTSU)\n"
   ]
  },
  {
   "cell_type": "code",
   "execution_count": 90,
   "metadata": {},
   "outputs": [],
   "source": [
    "res= np.ones_like(img)*255"
   ]
  },
  {
   "cell_type": "code",
   "execution_count": 91,
   "metadata": {},
   "outputs": [],
   "source": [
    "res[gray<ret] = [255, 0, 0]\n",
    "res[np.bitwise_and(gray>ret, gray<200)] = [0, 0, 255]"
   ]
  },
  {
   "cell_type": "code",
   "execution_count": 97,
   "metadata": {},
   "outputs": [
    {
     "output_type": "execute_result",
     "data": {
      "text/plain": [
       "-1"
      ]
     },
     "metadata": {},
     "execution_count": 97
    }
   ],
   "source": [
    "cv.imshow(\"img\", res)\n",
    "cv.waitKey(0)"
   ]
  },
  {
   "cell_type": "code",
   "execution_count": 95,
   "metadata": {},
   "outputs": [],
   "source": [
    "def GetRedBlueCount(img):\n",
    "    gray = cv.cvtColor(img, cv.COLOR_BGR2GRAY)\n",
    "\n",
    "    # Otsu thresholding\n",
    "\n",
    "    ret, thresh = cv.threshold(gray[gray<200],0,255,cv.THRESH_BINARY+cv.THRESH_OTSU)\n",
    "\n",
    "    red = np.sum(thresh==0)\n",
    "    blue = np.sum(thresh == 255)\n",
    "    return red, blue\n"
   ]
  },
  {
   "cell_type": "code",
   "execution_count": 99,
   "metadata": {},
   "outputs": [],
   "source": [
    "r, b = GetRedBlueCount(r)"
   ]
  },
  {
   "cell_type": "code",
   "execution_count": 100,
   "metadata": {},
   "outputs": [
    {
     "output_type": "execute_result",
     "data": {
      "text/plain": [
       "287807"
      ]
     },
     "metadata": {},
     "execution_count": 100
    }
   ],
   "source": [
    "r+b"
   ]
  },
  {
   "cell_type": "code",
   "execution_count": null,
   "metadata": {},
   "outputs": [],
   "source": []
  }
 ]
}