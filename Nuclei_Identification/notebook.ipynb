{
 "metadata": {
  "language_info": {
   "codemirror_mode": {
    "name": "ipython",
    "version": 3
   },
   "file_extension": ".py",
   "mimetype": "text/x-python",
   "name": "python",
   "nbconvert_exporter": "python",
   "pygments_lexer": "ipython3",
   "version": "3.8.0"
  },
  "orig_nbformat": 2,
  "kernelspec": {
   "name": "python3",
   "display_name": "Python 3.8.0 64-bit",
   "metadata": {
    "interpreter": {
     "hash": "8a298693b61c3ef6bd5797ff4e9ec6e70addcdadee3acf16272a421292c70e00"
    }
   }
  }
 },
 "nbformat": 4,
 "nbformat_minor": 2,
 "cells": [
  {
   "cell_type": "code",
   "execution_count": 1,
   "metadata": {},
   "outputs": [],
   "source": [
    "\n",
    "import sys\n",
    "import os\n",
    "import cv2 as cv\n",
    "import numpy as np\n",
    "import matplotlib.pyplot as plt\n",
    "\n",
    "from skimage.feature import local_binary_pattern\n",
    "\n",
    "\n",
    "# In[142]:\n",
    "\n",
    "\n",
    "sys.path.append(os.path.join(os.path.dirname(os.getcwd()),\"modules\"))\n",
    "\n",
    "\n",
    "# In[143]:\n",
    "\n",
    "\n",
    "import NbrRegionSegment as seg\n",
    "\n"
   ]
  },
  {
   "cell_type": "code",
   "execution_count": 3,
   "metadata": {},
   "outputs": [],
   "source": [
    "def run(img, withBG = False, path = None):\n",
    "\n",
    "    if not withBG:\n",
    "        # Original is given\n",
    "        if path:\n",
    "            img = cv.imread(path)\n",
    "\n",
    "        #Segment Image\n",
    "        gray_img = cv.cvtColor(img, cv.COLOR_BGR2GRAY)\n",
    "        radius = 1\n",
    "        points = 8*radius \n",
    "        lbp = local_binary_pattern(gray_img, points, radius, \"uniform\").astype(\"uint8\")\n",
    "\n",
    "\n",
    "        wr, wb, wg, wc = 0.09231725,  0.04552005,  0.7421578, 0.9\n",
    "        thres = 12\n",
    "        \n",
    "        lmap, reg = seg.RegionExtract(img, lbp, thres, wr, wg, wb, wc)\n",
    "\n",
    "        r_map = seg.GetBgMap(lmap, 1000, reg)\n",
    "\n",
    "        r_white = np.array(img)\n",
    "        r_white[r_map] = 255\n",
    "\n",
    "        gray = cv.cvtColor(r_white, cv.COLOR_BGR2GRAY)\n",
    "\n",
    "    else :\n",
    "        #Segmented image with BG as Black\n",
    "        gray = cv.cvtColor(img, cv.COLOR_BGR2GRAY)\n",
    "        img[gray == 0] = [255, 255, 255]\n",
    "        gray[gray == 0] = 255\n",
    "        r_white = img\n",
    "\n",
    "    # Otsu thresholding\n",
    "    _, thresh = cv.threshold(gray,0,255,cv.THRESH_BINARY+cv.THRESH_OTSU)\n",
    "\n",
    "    # noise removal, close filled regions\n",
    "    kernel = np.ones((3,3),np.uint8)\n",
    "    opening = cv.morphologyEx(thresh,cv.MORPH_CLOSE,kernel, iterations = 2)\n",
    "\n",
    "    # sure background area\n",
    "    sure_bg = cv.dilate(opening,kernel,iterations=3)\n",
    "\n",
    "    # Finding sure foreground area\n",
    "    dist_transform = cv.distanceTransform(opening,cv.DIST_L2,5)\n",
    "    _, sure_fg = cv.threshold(dist_transform,0.3*dist_transform.max(),255,0)\n",
    "\n",
    "    # Finding unknown region\n",
    "    sure_fg = np.uint8(sure_fg)\n",
    "    unknown = cv.subtract(sure_bg,sure_fg)\n",
    "\n",
    "    # Marker labelling\n",
    "    _, markers = cv.connectedComponents(sure_fg)\n",
    "\n",
    "    # # Add one to all labels so that sure background is not 0, but 1\n",
    "    markers = markers+1\n",
    "\n",
    "    # Now, mark the region of unknown with zero\n",
    "    markers[unknown==255] = 0\n",
    "    markers = cv.watershed(r_white,markers)\n",
    "\n",
    "    # create map for image\n",
    "    outline = np.zeros_like(markers, \"uint8\")\n",
    "    outline[markers == -1] = 255\n",
    "    outline[thresh == 255] = 255\n",
    "\n",
    "    th = np.mean(gray[outline == 0])*0.75\n",
    "\n",
    "    outline[gray>th] = 255\n",
    "    outline[gray<10] = 255\n",
    "\n",
    "    outline = cv.medianBlur(outline, 5)\n",
    "    outline[gray>th] = 255\n",
    "\n",
    "    nuc_mask = outline == 0\n",
    "\n",
    "    tmp = np.array(r_white, \"uint8\")\n",
    "\n",
    "    tmp[nuc_mask] = [0, 255, 0]\n",
    "\n",
    "\n",
    "    tmp2 = np.zeros_like(r_white, \"uint8\")\n",
    "\n",
    "    tmp2[nuc_mask] = r_white[nuc_mask]\n",
    "    # cv.imshow(\"imgorg\", tmp2)\n",
    "\n",
    "    # segmented, reg = seg.RegionExtract(tmp2, np.zeros_like(lbp), 50, wr, wg, wb, 1)\n",
    "    # noise = seg.GetBgMap(segmented, 50, reg)\n",
    "\n",
    "    # tmp2[~noise] = [255, 0, 0]\n",
    "\n",
    "    # tmp2 = cv.medianBlur(tmp2, 5)\n",
    "    # print(np.sum(noise==True))\n",
    "    # print(reg)\n",
    "    # print(tmp2)\n",
    "\n",
    "    cv.imshow(\"img\", tmp2)\n",
    "    cv.imshow(\"out\", img)\n",
    "    cv.imshow(\"img2\", tmp)\n",
    "    cv.waitKey(0)\n",
    "    return\n"
   ]
  },
  {
   "cell_type": "code",
   "execution_count": 2,
   "metadata": {},
   "outputs": [],
   "source": [
    "import FeaturesExtraction.nuclei as fe"
   ]
  },
  {
   "cell_type": "code",
   "execution_count": 11,
   "metadata": {},
   "outputs": [],
   "source": [
    "wr, wb, wg, wc = 0.09231725,  0.04552005,  0.7421578, 0.9\n",
    "thres = 12\n",
    "img = cv.imread(r\"D:\\Project 2\\Project_2\\Dataset\\Case_3_A7-14703-16558.jpg\")\n",
    "\n",
    "gray_img = cv.cvtColor(img, cv.COLOR_BGR2GRAY)\n",
    "radius = 1\n",
    "points = 8*radius \n",
    "lbp = local_binary_pattern(gray_img, points, radius, \"uniform\").astype(\"uint8\")\n",
    "\n",
    "r = seg.RemoveBG(img, lbp, thres, 1000, wr, wg, wb, wc)\n",
    "\n",
    "nuc = fe.SegmentNuclei(r)"
   ]
  },
  {
   "cell_type": "code",
   "execution_count": 12,
   "metadata": {},
   "outputs": [
    {
     "output_type": "execute_result",
     "data": {
      "text/plain": [
       "array([4090.        , 9454.        ,   29.04705814,  260.        ])"
      ]
     },
     "metadata": {},
     "execution_count": 12
    }
   ],
   "source": [
    "fe.GetFeatures(r)"
   ]
  },
  {
   "cell_type": "code",
   "execution_count": null,
   "metadata": {},
   "outputs": [],
   "source": []
  }
 ]
}