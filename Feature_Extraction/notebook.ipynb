{
 "metadata": {
  "language_info": {
   "codemirror_mode": {
    "name": "ipython",
    "version": 3
   },
   "file_extension": ".py",
   "mimetype": "text/x-python",
   "name": "python",
   "nbconvert_exporter": "python",
   "pygments_lexer": "ipython3",
   "version": "3.8.0-final"
  },
  "orig_nbformat": 2,
  "kernelspec": {
   "name": "python3",
   "display_name": "Python 3.8.0 64-bit",
   "metadata": {
    "interpreter": {
     "hash": "8a298693b61c3ef6bd5797ff4e9ec6e70addcdadee3acf16272a421292c70e00"
    }
   }
  }
 },
 "nbformat": 4,
 "nbformat_minor": 2,
 "cells": [
  {
   "cell_type": "code",
   "execution_count": 1,
   "metadata": {},
   "outputs": [],
   "source": [
    "import numpy as np\n",
    "import cv2 as cv\n",
    "import time\n",
    "\n",
    "from skimage.feature import greycomatrix, greycoprops"
   ]
  },
  {
   "cell_type": "code",
   "execution_count": 2,
   "metadata": {},
   "outputs": [],
   "source": [
    "sys.path.append(os.path.join(os.path.dirname(os.getcwd()),\"modules\"))"
   ]
  },
  {
   "cell_type": "code",
   "execution_count": 3,
   "metadata": {},
   "outputs": [],
   "source": [
    "from FeaturesExtraction.glcm import *"
   ]
  },
  {
   "cell_type": "code",
   "execution_count": 4,
   "metadata": {},
   "outputs": [],
   "source": [
    "img = cv.imread(r\"D:\\Project 2\\Project_2\\Dataset\\Case_3_A7-3774-28397.jpg\", cv.IMREAD_GRAYSCALE)"
   ]
  },
  {
   "cell_type": "code",
   "execution_count": 5,
   "metadata": {},
   "outputs": [],
   "source": [
    "glcm = greycomatrix(img, [1], [0, 45, 90, 135], 256, symmetric=True)"
   ]
  },
  {
   "cell_type": "code",
   "execution_count": 8,
   "metadata": {},
   "outputs": [
    {
     "output_type": "execute_result",
     "data": {
      "text/plain": [
       "array([ 1.07876390e-01,  1.16493477e+02,  4.93929654e-01,  6.20843744e+00,\n",
       "        9.72931266e-01,  2.15180640e+03,  4.18383240e+02,  4.32040358e+00,\n",
       "        8.49073242e+03,  2.47518659e+00,  8.98269730e+01, -3.78925920e-01,\n",
       "        9.72168207e-01,  1.02655545e-01,  2.00286224e+02,  4.47864920e-01,\n",
       "        6.44446135e+00,  9.53476191e-01,  2.15251294e+03,  4.18348083e+02,\n",
       "        4.32979393e+00,  8.40976562e+03,  2.73302388e+00,  1.51447861e+02,\n",
       "       -3.17585558e-01,  9.55106258e-01,  1.07315741e-01,  1.28068588e+02,\n",
       "        4.71649379e-01,  6.29779291e+00,  9.70252454e-01,  2.15259277e+03,\n",
       "        4.18348785e+02,  4.32088804e+00,  8.48230273e+03,  2.57191181e+00,\n",
       "        9.57637787e+01, -3.55784178e-01,  9.66688454e-01,  1.07876390e-01,\n",
       "        1.16493477e+02,  4.93929654e-01,  6.20843744e+00,  9.72931266e-01,\n",
       "        2.15180640e+03,  4.18383240e+02,  4.32040358e+00,  8.49073242e+03,\n",
       "        2.47518659e+00,  8.98269730e+01, -3.78925920e-01,  9.72168207e-01],\n",
       "      dtype=float32)"
      ]
     },
     "metadata": {},
     "execution_count": 8
    }
   ],
   "source": [
    "AllFeaturesAllMatrix(glcm, True)"
   ]
  },
  {
   "cell_type": "code",
   "execution_count": null,
   "metadata": {},
   "outputs": [],
   "source": [
    "AllFeaturesAllMatrix(WithoutBgNorm(glcm[:, :, 0, 0]), True)"
   ]
  },
  {
   "cell_type": "code",
   "execution_count": 4,
   "metadata": {},
   "outputs": [],
   "source": [
    "def without_bg_norm(mat):\n",
    "    mat[0, :]= 0\n",
    "    mat[:, 0]= 0\n",
    "\n",
    "    return mat/np.sum(mat)"
   ]
  },
  {
   "cell_type": "code",
   "execution_count": 5,
   "metadata": {},
   "outputs": [
    {
     "output_type": "execute_result",
     "data": {
      "text/plain": [
       "(256, 256)"
      ]
     },
     "metadata": {},
     "execution_count": 5
    }
   ],
   "source": [
    "test = without_bg_norm(glcm[:, :, 0, 0])\n",
    "test.shape"
   ]
  },
  {
   "cell_type": "code",
   "execution_count": 14,
   "metadata": {},
   "outputs": [
    {
     "output_type": "execute_result",
     "data": {
      "text/plain": [
       "0.9721682244996586"
      ]
     },
     "metadata": {},
     "execution_count": 14
    }
   ],
   "source": [
    "InfoMeasureOfCorrelation2(test)"
   ]
  },
  {
   "cell_type": "code",
   "execution_count": 8,
   "metadata": {},
   "outputs": [],
   "source": [
    "j = np.arange(0, 256)*np.ones((256, 1))\n",
    "i = j.T"
   ]
  },
  {
   "cell_type": "code",
   "execution_count": 9,
   "metadata": {},
   "outputs": [
    {
     "output_type": "execute_result",
     "data": {
      "text/plain": [
       "array([ 7, 12])"
      ]
     },
     "metadata": {},
     "execution_count": 9
    }
   ],
   "source": [
    "np.sum(np.array([[1, 2, 4], [3, 4, 5]]), axis =1)"
   ]
  },
  {
   "cell_type": "code",
   "execution_count": null,
   "metadata": {},
   "outputs": [],
   "source": []
  }
 ]
}