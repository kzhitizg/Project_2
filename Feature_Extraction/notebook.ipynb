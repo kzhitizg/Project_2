{
 "metadata": {
  "language_info": {
   "codemirror_mode": {
    "name": "ipython",
    "version": 3
   },
   "file_extension": ".py",
   "mimetype": "text/x-python",
   "name": "python",
   "nbconvert_exporter": "python",
   "pygments_lexer": "ipython3",
   "version": "3.8.0-final"
  },
  "orig_nbformat": 2,
  "kernelspec": {
   "name": "python3",
   "display_name": "Python 3.8.0 64-bit",
   "metadata": {
    "interpreter": {
     "hash": "8a298693b61c3ef6bd5797ff4e9ec6e70addcdadee3acf16272a421292c70e00"
    }
   }
  }
 },
 "nbformat": 4,
 "nbformat_minor": 2,
 "cells": [
  {
   "cell_type": "code",
   "execution_count": 1,
   "metadata": {},
   "outputs": [],
   "source": [
    "import numpy as np\n",
    "import cv2 as cv\n",
    "import time\n",
    "\n",
    "from skimage.feature import greycomatrix, greycoprops, local_binary_pattern"
   ]
  },
  {
   "cell_type": "code",
   "execution_count": 2,
   "metadata": {},
   "outputs": [],
   "source": [
    "sys.path.append(os.path.join(os.path.dirname(os.getcwd()),\"modules\"))"
   ]
  },
  {
   "cell_type": "code",
   "execution_count": 3,
   "metadata": {},
   "outputs": [],
   "source": [
    "from FeaturesExtraction.glcm import *\n",
    "import NbrRegionSegment as seg"
   ]
  },
  {
   "cell_type": "code",
   "execution_count": 4,
   "metadata": {},
   "outputs": [],
   "source": [
    "img = cv.imread(r\"D:\\Project 2\\Project_2\\Dataset\\Case_3_A10-10547-25283.jpg\")"
   ]
  },
  {
   "cell_type": "code",
   "execution_count": 7,
   "metadata": {},
   "outputs": [],
   "source": [
    "wr = 0.8\n",
    "wg = 0.8\n",
    "wb = 0.1\n",
    "wc = 0.9\n",
    "thres1 = 13\n",
    "\n",
    "gray_img = cv.cvtColor(img, cv.COLOR_BGR2GRAY)\n",
    "# print(len(gray_img.shape))\n",
    "\n",
    "#LBP part\n",
    "radius = 1\n",
    "points = 8*radius \n",
    "\n",
    "lbp = local_binary_pattern(gray_img, points, radius, \"uniform\").astype(\"uint8\")\n",
    "\n",
    "#segment image\n",
    "r = seg.RemoveBG(img, lbp, thres1, 1000, wr, wg, wb, wc)"
   ]
  },
  {
   "cell_type": "code",
   "execution_count": null,
   "metadata": {},
   "outputs": [],
   "source": []
  },
  {
   "cell_type": "code",
   "execution_count": 8,
   "metadata": {},
   "outputs": [],
   "source": [
    "glcm = greycomatrix(cv.cvtColor(img, cv.COLOR_BGR2GRAY), [1], [0, 45, 90, 135], 256, symmetric=True)"
   ]
  },
  {
   "cell_type": "code",
   "execution_count": 9,
   "metadata": {},
   "outputs": [
    {
     "output_type": "execute_result",
     "data": {
      "text/plain": [
       "array([ 5.69749363e-02,  1.30070892e+02,  3.99669886e-01,  6.53980255e+00,\n",
       "        9.19741452e-01,  8.10324280e+02,  4.53241180e+02,  4.31921577e+00,\n",
       "        3.11122607e+03,  2.78180623e+00,  8.92326202e+01, -2.67434567e-01,\n",
       "        9.31237519e-01,  5.30127324e-02,  2.69833923e+02,  3.58061343e-01,\n",
       "        6.79542732e+00,  8.33488882e-01,  8.10257935e+02,  4.53246857e+02,\n",
       "        4.31606913e+00,  2.97119775e+03,  3.09682012e+00,  1.83091263e+02,\n",
       "       -1.99458525e-01,  8.82102907e-01,  5.64487167e-02,  1.64779144e+02,\n",
       "        3.86270136e-01,  6.62021637e+00,  8.98337185e-01,  8.10420105e+02,\n",
       "        4.53241669e+02,  4.31803846e+00,  3.07690137e+03,  2.88594413e+00,\n",
       "        1.11915115e+02, -2.46008232e-01,  9.18622851e-01,  5.69749363e-02,\n",
       "        1.30070892e+02,  3.99669886e-01,  6.53980255e+00,  9.19741452e-01,\n",
       "        8.10324280e+02,  4.53241180e+02,  4.31921577e+00,  3.11122607e+03,\n",
       "        2.78180623e+00,  8.92326202e+01, -2.67434567e-01,  9.31237519e-01],\n",
       "      dtype=float32)"
      ]
     },
     "metadata": {},
     "execution_count": 9
    }
   ],
   "source": [
    "AllFeaturesAllMatrix(glcm, True)"
   ]
  },
  {
   "cell_type": "code",
   "execution_count": null,
   "metadata": {},
   "outputs": [],
   "source": [
    "def without_bg_norm(mat):\n",
    "    mat[0, :]= 0\n",
    "    mat[:, 0]= 0\n",
    "\n",
    "    return mat/np.sum(mat)"
   ]
  },
  {
   "cell_type": "code",
   "execution_count": 9,
   "metadata": {},
   "outputs": [
    {
     "output_type": "execute_result",
     "data": {
      "text/plain": [
       "(256, 256)"
      ]
     },
     "metadata": {},
     "execution_count": 9
    }
   ],
   "source": [
    "test = without_bg_norm(glcm[:, :, 0, 0])\n",
    "test.shape"
   ]
  },
  {
   "cell_type": "code",
   "execution_count": 14,
   "metadata": {},
   "outputs": [
    {
     "output_type": "execute_result",
     "data": {
      "text/plain": [
       "0.9721682244996586"
      ]
     },
     "metadata": {},
     "execution_count": 14
    }
   ],
   "source": [
    "InfoMeasureOfCorrelation2(test)"
   ]
  },
  {
   "cell_type": "code",
   "execution_count": 8,
   "metadata": {},
   "outputs": [],
   "source": [
    "j = np.arange(0, 256)*np.ones((256, 1))\n",
    "i = j.T"
   ]
  },
  {
   "cell_type": "code",
   "execution_count": 9,
   "metadata": {},
   "outputs": [
    {
     "output_type": "execute_result",
     "data": {
      "text/plain": [
       "array([ 7, 12])"
      ]
     },
     "metadata": {},
     "execution_count": 9
    }
   ],
   "source": [
    "np.sum(np.array([[1, 2, 4], [3, 4, 5]]), axis =1)"
   ]
  },
  {
   "cell_type": "code",
   "execution_count": null,
   "metadata": {},
   "outputs": [],
   "source": []
  }
 ]
}