{
 "metadata": {
  "language_info": {
   "codemirror_mode": {
    "name": "ipython",
    "version": 3
   },
   "file_extension": ".py",
   "mimetype": "text/x-python",
   "name": "python",
   "nbconvert_exporter": "python",
   "pygments_lexer": "ipython3",
   "version": "3.8.0-final"
  },
  "orig_nbformat": 2,
  "kernelspec": {
   "name": "python3",
   "display_name": "Python 3.8.0 64-bit",
   "metadata": {
    "interpreter": {
     "hash": "8a298693b61c3ef6bd5797ff4e9ec6e70addcdadee3acf16272a421292c70e00"
    }
   }
  }
 },
 "nbformat": 4,
 "nbformat_minor": 2,
 "cells": [
  {
   "cell_type": "code",
   "execution_count": 6,
   "metadata": {},
   "outputs": [],
   "source": [
    "import numpy as np\n",
    "import cv2 as cv\n",
    "import time\n",
    "\n",
    "from skimage.feature import greycomatrix, greycoprops, local_binary_pattern"
   ]
  },
  {
   "cell_type": "code",
   "execution_count": 7,
   "metadata": {},
   "outputs": [],
   "source": [
    "sys.path.append(os.path.join(os.path.dirname(os.getcwd()),\"modules\"))"
   ]
  },
  {
   "cell_type": "code",
   "execution_count": 8,
   "metadata": {},
   "outputs": [],
   "source": [
    "from FeaturesExtraction.glcm import *\n",
    "from NbrRegionSegment import NbrRegionSegment as seg"
   ]
  },
  {
   "cell_type": "code",
   "execution_count": 9,
   "metadata": {},
   "outputs": [],
   "source": [
    "img = cv.imread(r\"D:\\Project 2\\Project_2\\Dataset\\Case_3_A10-10547-25283.jpg\")"
   ]
  },
  {
   "cell_type": "code",
   "execution_count": 11,
   "metadata": {},
   "outputs": [
    {
     "output_type": "error",
     "ename": "NameError",
     "evalue": "name 'RemoveBG' is not defined",
     "traceback": [
      "\u001b[1;31m---------------------------------------------------------------------------\u001b[0m",
      "\u001b[1;31mNameError\u001b[0m                                 Traceback (most recent call last)",
      "\u001b[1;32m<ipython-input-11-9fac66919fe8>\u001b[0m in \u001b[0;36m<module>\u001b[1;34m\u001b[0m\n\u001b[0;32m      9\u001b[0m \u001b[1;33m\u001b[0m\u001b[0m\n\u001b[0;32m     10\u001b[0m \u001b[1;31m#segment image\u001b[0m\u001b[1;33m\u001b[0m\u001b[1;33m\u001b[0m\u001b[1;33m\u001b[0m\u001b[0m\n\u001b[1;32m---> 11\u001b[1;33m \u001b[0mr\u001b[0m \u001b[1;33m=\u001b[0m \u001b[0mRemoveBG\u001b[0m\u001b[1;33m(\u001b[0m\u001b[0mimg\u001b[0m\u001b[1;33m,\u001b[0m \u001b[0mlbp\u001b[0m\u001b[1;33m,\u001b[0m \u001b[0mthres1\u001b[0m\u001b[1;33m,\u001b[0m \u001b[0mthres2\u001b[0m\u001b[1;33m,\u001b[0m \u001b[0mwr\u001b[0m\u001b[1;33m,\u001b[0m \u001b[0mwg\u001b[0m\u001b[1;33m,\u001b[0m \u001b[0mwb\u001b[0m\u001b[1;33m,\u001b[0m \u001b[0mwc\u001b[0m\u001b[1;33m)\u001b[0m\u001b[1;33m\u001b[0m\u001b[1;33m\u001b[0m\u001b[0m\n\u001b[0m",
      "\u001b[1;31mNameError\u001b[0m: name 'RemoveBG' is not defined"
     ]
    }
   ],
   "source": [
    "gray_img = cv.cvtColor(img, cv.COLOR_BGR2GRAY)\n",
    "# print(len(gray_img.shape))\n",
    "\n",
    "#LBP part\n",
    "radius = 1\n",
    "points = 8*radius \n",
    "\n",
    "lbp = local_binary_pattern(gray_img, points, radius, \"uniform\").astype(\"uint8\")\n",
    "\n",
    "#segment image\n",
    "r = seg.Re(img, lbp, thres1, thres2, wr, wg, wb, wc)"
   ]
  },
  {
   "cell_type": "code",
   "execution_count": 5,
   "metadata": {},
   "outputs": [],
   "source": [
    "glcm = greycomatrix(img, [1], [0, 45, 90, 135], 256, symmetric=True)"
   ]
  },
  {
   "cell_type": "code",
   "execution_count": 6,
   "metadata": {},
   "outputs": [
    {
     "output_type": "execute_result",
     "data": {
      "text/plain": [
       "array([ 5.6965627e-02,  1.3100601e+02,  3.9903095e-01,  6.5514226e+00,\n",
       "        9.1925371e-01,  8.1121991e+02,  4.5327945e+02,  4.3244863e+00,\n",
       "        3.1138738e+03,  2.7859147e+00,  8.9766655e+01, -2.6726484e-01,\n",
       "        9.3138748e-01,  5.3003740e-02,  2.7156201e+02,  3.5776097e-01,\n",
       "        6.8063025e+00,  8.3260733e-01,  8.1115271e+02,  4.5328506e+02,\n",
       "        4.3196640e+00,  2.9730488e+03,  3.0998807e+00,  1.8416199e+02,\n",
       "       -1.9959754e-01,  8.8255191e-01,  5.6438163e-02,  1.6584462e+02,\n",
       "        3.8572460e-01,  6.6319208e+00,  8.9779276e-01,  8.1131537e+02,\n",
       "        4.5327991e+02,  4.3228812e+00,  3.0794167e+03,  2.8896840e+00,\n",
       "        1.1250991e+02, -2.4585187e-01,  9.1878712e-01,  5.6965627e-02,\n",
       "        1.3100601e+02,  3.9903095e-01,  6.5514226e+00,  9.1925371e-01,\n",
       "        8.1121991e+02,  4.5327945e+02,  4.3244863e+00,  3.1138738e+03,\n",
       "        2.7859147e+00,  8.9766655e+01, -2.6726484e-01,  9.3138748e-01],\n",
       "      dtype=float32)"
      ]
     },
     "metadata": {},
     "execution_count": 6
    }
   ],
   "source": [
    "AllFeaturesAllMatrix(glcm, True)"
   ]
  },
  {
   "cell_type": "code",
   "execution_count": null,
   "metadata": {},
   "outputs": [],
   "source": [
    "def without_bg_norm(mat):\n",
    "    mat[0, :]= 0\n",
    "    mat[:, 0]= 0\n",
    "\n",
    "    return mat/np.sum(mat)"
   ]
  },
  {
   "cell_type": "code",
   "execution_count": 9,
   "metadata": {},
   "outputs": [
    {
     "output_type": "execute_result",
     "data": {
      "text/plain": [
       "(256, 256)"
      ]
     },
     "metadata": {},
     "execution_count": 9
    }
   ],
   "source": [
    "test = without_bg_norm(glcm[:, :, 0, 0])\n",
    "test.shape"
   ]
  },
  {
   "cell_type": "code",
   "execution_count": 14,
   "metadata": {},
   "outputs": [
    {
     "output_type": "execute_result",
     "data": {
      "text/plain": [
       "0.9721682244996586"
      ]
     },
     "metadata": {},
     "execution_count": 14
    }
   ],
   "source": [
    "InfoMeasureOfCorrelation2(test)"
   ]
  },
  {
   "cell_type": "code",
   "execution_count": 8,
   "metadata": {},
   "outputs": [],
   "source": [
    "j = np.arange(0, 256)*np.ones((256, 1))\n",
    "i = j.T"
   ]
  },
  {
   "cell_type": "code",
   "execution_count": 9,
   "metadata": {},
   "outputs": [
    {
     "output_type": "execute_result",
     "data": {
      "text/plain": [
       "array([ 7, 12])"
      ]
     },
     "metadata": {},
     "execution_count": 9
    }
   ],
   "source": [
    "np.sum(np.array([[1, 2, 4], [3, 4, 5]]), axis =1)"
   ]
  },
  {
   "cell_type": "code",
   "execution_count": null,
   "metadata": {},
   "outputs": [],
   "source": []
  }
 ]
}